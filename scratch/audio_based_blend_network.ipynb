{
 "cells": [
  {
   "cell_type": "code",
   "execution_count": 1,
   "metadata": {},
   "outputs": [],
   "source": [
    "%load_ext autoreload\n",
    "%autoreload 2"
   ]
  },
  {
   "cell_type": "code",
   "execution_count": 2,
   "metadata": {},
   "outputs": [],
   "source": [
    "import os\n",
    "import sys\n",
    "\n",
    "sys.path.append('/coc/scratch/anarayanan68/mint/')"
   ]
  },
  {
   "cell_type": "code",
   "execution_count": 23,
   "metadata": {},
   "outputs": [],
   "source": [
    "import numpy as np\n",
    "import tensorflow as tf\n",
    "from tensorflow import keras\n",
    "from tensorflow.keras import layers, initializers, regularizers\n",
    "\n",
    "from mint.core import fact_model, base_model_util, base_models, primitive_models\n",
    "from mint.utils import inputs_util, config_util"
   ]
  },
  {
   "cell_type": "code",
   "execution_count": 24,
   "metadata": {},
   "outputs": [],
   "source": [
    "class AudioToBlend(keras.Model):\n",
    "    def __init__(self, num_primitives, config_dict, name=\"AudioToBlend\", **kwargs):\n",
    "        super(AudioToBlend, self).__init__(name=name, **kwargs)\n",
    "\n",
    "        self.num_primitives = num_primitives\n",
    "\n",
    "        transformer_config_yaml = config_dict['transformer']\n",
    "        self.transformer = base_models.Transformer(\n",
    "            hidden_size=transformer_config_yaml['hidden_size'],\n",
    "            num_hidden_layers=transformer_config_yaml['num_hidden_layers'],\n",
    "            num_attention_heads=transformer_config_yaml['num_attention_heads'],\n",
    "            intermediate_size=transformer_config_yaml['intermediate_size']\n",
    "        )\n",
    "        self.audio_pos_embedding = base_models.PositionEmbedding(\n",
    "            transformer_config_yaml['sequence_length'],\n",
    "            transformer_config_yaml['hidden_size'])\n",
    "        self.audio_linear_embedding = base_models.LinearEmbedding(\n",
    "            transformer_config_yaml['hidden_size'])\n",
    "\n",
    "        output_block_config_yaml = config_dict['output_block']\n",
    "        self.output_block = keras.Sequential([\n",
    "            layers.GlobalAveragePooling1D(),\n",
    "            base_models.MLP(out_dim=num_primitives, hidden_dim=output_block_config_yaml['hidden_dim']),\n",
    "            layers.Softmax()\n",
    "        ])\n",
    "\n",
    "\n",
    "    def call(self, audio_seq):\n",
    "        # audio_seq shape: (batch_size, seq_len, input_feature_dim)\n",
    "        audio_features = self.audio_linear_embedding(audio_seq)\n",
    "\n",
    "        # audio_features shape: (batch_size, seq_len, transformer_hidden_size)\n",
    "        audio_features = self.audio_pos_embedding(audio_features)\n",
    "        audio_features = self.transformer(audio_features)\n",
    "\n",
    "        # audio_features shape: (batch_size, seq_len, transformer_hidden_size)\n",
    "        out_vec = self.output_block(audio_features)\n",
    "\n",
    "        # out_vec shape: (batch_size, num_primitives)\n",
    "        return out_vec"
   ]
  },
  {
   "cell_type": "code",
   "execution_count": 25,
   "metadata": {},
   "outputs": [
    {
     "data": {
      "text/plain": [
       "{'num_primitives': 10,\n",
       " 'audio_to_blend': {'transformer': {'sequence_length': 60,\n",
       "   'hidden_size': 256,\n",
       "   'num_hidden_layers': 1,\n",
       "   'num_attention_heads': 8,\n",
       "   'intermediate_size': 1024},\n",
       "  'output_block': {'hidden_dim': 256}},\n",
       " 'blend_vec_to_seq': {'target_shape': '120,147', 'wt_seed': 101}}"
      ]
     },
     "execution_count": 25,
     "metadata": {},
     "output_type": "execute_result"
    }
   ],
   "source": [
    "enc_config_yaml_path = '/coc/scratch/anarayanan68/mint/configs/audio_based_blending__pilot-enc_config.yml'\n",
    "enc_config_yaml = config_util.read_yaml_config(enc_config_yaml_path)\n",
    "\n",
    "enc_config_yaml"
   ]
  },
  {
   "cell_type": "code",
   "execution_count": 26,
   "metadata": {},
   "outputs": [],
   "source": [
    "a2b = AudioToBlend(\n",
    "    num_primitives=enc_config_yaml['num_primitives'],\n",
    "    config_dict=enc_config_yaml['audio_to_blend']\n",
    ")"
   ]
  },
  {
   "cell_type": "code",
   "execution_count": 27,
   "metadata": {},
   "outputs": [
    {
     "data": {
      "text/plain": [
       "(<tf.Tensor: shape=(8, 10), dtype=float32, numpy=\n",
       " array([[0.09079967, 0.09859749, 0.09884806, 0.1179162 , 0.08714379,\n",
       "         0.1028384 , 0.1120392 , 0.08785363, 0.08625776, 0.11770577],\n",
       "        [0.08388319, 0.09766105, 0.1091526 , 0.11005241, 0.10903998,\n",
       "         0.08448704, 0.10793084, 0.08343273, 0.08686956, 0.12749058],\n",
       "        [0.08138527, 0.11689258, 0.09156946, 0.09183931, 0.10789804,\n",
       "         0.09526936, 0.11078382, 0.08774048, 0.09458779, 0.12203394],\n",
       "        [0.09270462, 0.11047561, 0.12352896, 0.09548024, 0.10819941,\n",
       "         0.1078762 , 0.0818181 , 0.09399509, 0.0817726 , 0.10414915],\n",
       "        [0.08114699, 0.09779686, 0.10253843, 0.10997347, 0.10502414,\n",
       "         0.11275101, 0.09661342, 0.08905603, 0.10094567, 0.10415403],\n",
       "        [0.07180721, 0.10969441, 0.12554705, 0.09265181, 0.09760097,\n",
       "         0.09966142, 0.10811237, 0.08201694, 0.10200477, 0.11090305],\n",
       "        [0.0993668 , 0.11980567, 0.08112411, 0.10295081, 0.10283118,\n",
       "         0.08881556, 0.10981584, 0.07350355, 0.08519097, 0.13659553],\n",
       "        [0.1058754 , 0.09788172, 0.07833145, 0.12494124, 0.11575009,\n",
       "         0.09071893, 0.09327048, 0.08138511, 0.08445006, 0.12739548]],\n",
       "       dtype=float32)>,\n",
       " <tf.Tensor: shape=(8,), dtype=float32, numpy=\n",
       " array([1.        , 1.        , 1.0000001 , 0.99999994, 1.        ,\n",
       "        1.        , 1.        , 0.9999999 ], dtype=float32)>)"
      ]
     },
     "execution_count": 27,
     "metadata": {},
     "output_type": "execute_result"
    }
   ],
   "source": [
    "test_ins = np.random.randn(8,60,35)\n",
    "test_outs = a2b(test_ins)\n",
    "\n",
    "test_outs, tf.reduce_sum(test_outs, axis=-1)"
   ]
  },
  {
   "cell_type": "code",
   "execution_count": 30,
   "metadata": {},
   "outputs": [
    {
     "data": {
      "text/plain": [
       "<tf.Tensor: shape=(8, 120, 147), dtype=float32, numpy=\n",
       "array([[[-0.01116452, -0.00605964,  0.01113016, ...,  0.02368946,\n",
       "         -0.00804726,  0.00970953],\n",
       "        [-0.01516559,  0.0179451 , -0.0018675 , ...,  0.02008962,\n",
       "          0.02980702,  0.01009487],\n",
       "        [-0.01411252,  0.01633983,  0.01735257, ..., -0.00031472,\n",
       "          0.02716686,  0.01474576],\n",
       "        ...,\n",
       "        [-0.02071053,  0.05081129,  0.00598954, ...,  0.01156972,\n",
       "          0.04686275,  0.02126425],\n",
       "        [ 0.02015749,  0.0191913 , -0.00886635, ...,  0.0240495 ,\n",
       "          0.02729913, -0.03569255],\n",
       "        [ 0.02464804,  0.00617509, -0.01686607, ...,  0.02765157,\n",
       "          0.01559675, -0.01129722]],\n",
       "\n",
       "       [[-0.0074795 , -0.0063454 ,  0.012312  , ...,  0.02201549,\n",
       "         -0.0066855 ,  0.00919778],\n",
       "        [-0.01296428,  0.01701553,  0.00118419, ...,  0.01931095,\n",
       "          0.02868771,  0.01077864],\n",
       "        [-0.01466077,  0.01378675,  0.01567617, ..., -0.0014971 ,\n",
       "          0.02811928,  0.01439935],\n",
       "        ...,\n",
       "        [-0.02140971,  0.05256629,  0.00442457, ...,  0.00946753,\n",
       "          0.04753325,  0.0225982 ],\n",
       "        [ 0.01878169,  0.01946712, -0.00700866, ...,  0.02619905,\n",
       "          0.02553368, -0.03631829],\n",
       "        [ 0.02541738,  0.00224551, -0.01808162, ...,  0.02708317,\n",
       "          0.01604234, -0.01082176]],\n",
       "\n",
       "       [[-0.00470348, -0.00678927,  0.0112862 , ...,  0.02280951,\n",
       "         -0.00628911,  0.00629468],\n",
       "        [-0.01177595,  0.01621679, -0.00020273, ...,  0.01850401,\n",
       "          0.02644021,  0.00984672],\n",
       "        [-0.01221952,  0.01384223,  0.01518191, ..., -0.00251179,\n",
       "          0.02922016,  0.01175539],\n",
       "        ...,\n",
       "        [-0.01895693,  0.04973389,  0.00490465, ...,  0.00680692,\n",
       "          0.047914  ,  0.02028675],\n",
       "        [ 0.01936473,  0.01887163, -0.00802754, ...,  0.02330706,\n",
       "          0.02691711, -0.03992519],\n",
       "        [ 0.02557604,  0.0016949 , -0.01632711, ...,  0.02708565,\n",
       "          0.01691395, -0.01067238]],\n",
       "\n",
       "       ...,\n",
       "\n",
       "       [[-0.00606253, -0.00635266,  0.00794055, ...,  0.02078704,\n",
       "         -0.00219163,  0.00686993],\n",
       "        [-0.01187916,  0.01425071,  0.00149316, ...,  0.01942916,\n",
       "          0.02523543,  0.00899035],\n",
       "        [-0.01253849,  0.01417453,  0.01682927, ..., -0.00402334,\n",
       "          0.02787519,  0.01112175],\n",
       "        ...,\n",
       "        [-0.01900657,  0.04903812,  0.00619602, ...,  0.00918812,\n",
       "          0.04814726,  0.0205962 ],\n",
       "        [ 0.0185858 ,  0.01798719, -0.00964819, ...,  0.02313991,\n",
       "          0.02618799, -0.03983823],\n",
       "        [ 0.02176899,  0.00312976, -0.02119924, ...,  0.02426607,\n",
       "          0.01585285, -0.0089093 ]],\n",
       "\n",
       "       [[-0.00930746, -0.00695086,  0.01296838, ...,  0.02436463,\n",
       "         -0.00996136,  0.00825596],\n",
       "        [-0.01400309,  0.02086288, -0.00410115, ...,  0.0174521 ,\n",
       "          0.02659434,  0.00799438],\n",
       "        [-0.01354615,  0.01271173,  0.01645495, ...,  0.0019255 ,\n",
       "          0.02993658,  0.01201706],\n",
       "        ...,\n",
       "        [-0.02105782,  0.05070365,  0.00526903, ...,  0.00650462,\n",
       "          0.04929435,  0.02079456],\n",
       "        [ 0.02109695,  0.01837071, -0.00703436, ...,  0.02583701,\n",
       "          0.02898839, -0.03797831],\n",
       "        [ 0.02881147,  0.00279525, -0.01168239, ...,  0.02817262,\n",
       "          0.01645595, -0.01171061]],\n",
       "\n",
       "       [[-0.01134975, -0.00567146,  0.01553798, ...,  0.02557511,\n",
       "         -0.01108681,  0.00966785],\n",
       "        [-0.01461144,  0.01897256, -0.00154953, ...,  0.01947448,\n",
       "          0.03232307,  0.01001399],\n",
       "        [-0.01723834,  0.01516279,  0.01531645, ...,  0.00041333,\n",
       "          0.02810972,  0.01468187],\n",
       "        ...,\n",
       "        [-0.02007937,  0.05281354,  0.00522186, ...,  0.00934853,\n",
       "          0.04581073,  0.02155764],\n",
       "        [ 0.01920499,  0.01913092, -0.00713908, ...,  0.02464645,\n",
       "          0.02708524, -0.0334738 ],\n",
       "        [ 0.02753823,  0.00517468, -0.01376215, ...,  0.0287118 ,\n",
       "          0.01597092, -0.01114817]]], dtype=float32)>"
      ]
     },
     "execution_count": 30,
     "metadata": {},
     "output_type": "execute_result"
    }
   ],
   "source": [
    "b2s = primitive_models.BlendVecToSeq(\n",
    "    num_primitives=enc_config_yaml['num_primitives'],\n",
    "    config_dict=enc_config_yaml['blend_vec_to_seq']\n",
    ")\n",
    "\n",
    "test_seq_outs = b2s(test_outs)\n",
    "test_seq_outs"
   ]
  }
 ],
 "metadata": {
  "interpreter": {
   "hash": "73ef9dae1850d4826a6a2abacc613ceaa38b06453232522e74b0afa9475d9130"
  },
  "kernelspec": {
   "display_name": "Python 3.7.11 ('ai-choreo')",
   "language": "python",
   "name": "python3"
  },
  "language_info": {
   "codemirror_mode": {
    "name": "ipython",
    "version": 3
   },
   "file_extension": ".py",
   "mimetype": "text/x-python",
   "name": "python",
   "nbconvert_exporter": "python",
   "pygments_lexer": "ipython3",
   "version": "3.7.11"
  },
  "orig_nbformat": 4
 },
 "nbformat": 4,
 "nbformat_minor": 2
}
