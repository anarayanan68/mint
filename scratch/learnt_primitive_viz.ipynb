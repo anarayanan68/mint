{
 "cells": [
  {
   "cell_type": "code",
   "execution_count": 1,
   "metadata": {},
   "outputs": [],
   "source": [
    "%load_ext autoreload\n",
    "%autoreload 2"
   ]
  },
  {
   "cell_type": "code",
   "execution_count": 2,
   "metadata": {},
   "outputs": [],
   "source": [
    "import os\n",
    "import sys\n",
    "\n",
    "sys.path.append('/coc/scratch/anarayanan68/mint/')"
   ]
  },
  {
   "cell_type": "code",
   "execution_count": 3,
   "metadata": {},
   "outputs": [
    {
     "name": "stderr",
     "output_type": "stream",
     "text": [
      "Warning: To use the exr data format, please install the OpenEXR package following the instructions detailed in the README at github.com/tensorflow/graphics.\n",
      "Warning: To use the threejs_vizualization, please install the colabtools package following the instructions detailed in the README at github.com/tensorflow/graphics.\n"
     ]
    }
   ],
   "source": [
    "import numpy as np\n",
    "import tensorflow as tf\n",
    "from tensorflow import keras\n",
    "from tensorflow.keras import layers, initializers, regularizers\n",
    "\n",
    "from mint.core import fact_model, base_model_util, base_models, primitive_models, model_builder\n",
    "from mint.utils import inputs_util, config_util"
   ]
  },
  {
   "cell_type": "code",
   "execution_count": 4,
   "metadata": {},
   "outputs": [],
   "source": [
    "config_path = '/coc/scratch/anarayanan68/mint/configs/audio_based_blending__embed_based_conditioning.config'\n",
    "enc_config_path = '/coc/scratch/anarayanan68/mint/configs/audio_based_blending__embed_based_conditioning-enc_config.yml'"
   ]
  },
  {
   "cell_type": "code",
   "execution_count": 5,
   "metadata": {},
   "outputs": [],
   "source": [
    "expt_root = '/coc/scratch/anarayanan68/mint/_expts/audio_based_blending__embed_based_conditioning'\n",
    "\n",
    "checkpoint_dir = os.path.join(expt_root, 'checkpoints/')"
   ]
  },
  {
   "cell_type": "code",
   "execution_count": 6,
   "metadata": {},
   "outputs": [],
   "source": [
    "configs = config_util.get_configs_from_pipeline_file(config_path)\n",
    "model_config = configs['model']\n",
    "eval_config = configs['eval_config']\n",
    "eval_dataset_config = configs['eval_dataset']"
   ]
  },
  {
   "cell_type": "code",
   "execution_count": 7,
   "metadata": {},
   "outputs": [],
   "source": [
    "enc_config_yaml = config_util.read_yaml_config(enc_config_path)"
   ]
  },
  {
   "cell_type": "code",
   "execution_count": 8,
   "metadata": {},
   "outputs": [
    {
     "data": {
      "text/plain": [
       "'/coc/scratch/anarayanan68/mint/_expts/audio_based_blending__embed_based_conditioning/checkpoints/ckpt-9999'"
      ]
     },
     "execution_count": 8,
     "metadata": {},
     "output_type": "execute_result"
    }
   ],
   "source": [
    "# Model build & restore\n",
    "\n",
    "model = model_builder.build(model_config, is_training=False,\n",
    "    encoder_config_yaml=enc_config_yaml, dataset_config=eval_dataset_config)\n",
    "\n",
    "checkpoint_manager=tf.train.CheckpointManager(\n",
    "    tf.train.Checkpoint(model=model),\n",
    "    directory=checkpoint_dir,\n",
    "    max_to_keep=None)\n",
    "\n",
    "checkpoint_manager.restore_or_initialize()"
   ]
  },
  {
   "cell_type": "code",
   "execution_count": 9,
   "metadata": {},
   "outputs": [
    {
     "data": {
      "text/plain": [
       "<tf.Tensor: shape=(100, 120, 147), dtype=float32, numpy=\n",
       "array([[[ 0.00752957,  0.00752949,  0.00753065, ...,  0.00753002,\n",
       "          0.00752935,  0.00753043],\n",
       "        [ 0.00752955,  0.00752941,  0.00753067, ...,  0.00752984,\n",
       "          0.00752928,  0.00753035],\n",
       "        [ 0.00752959,  0.00752945,  0.00753066, ...,  0.00752997,\n",
       "          0.00752928,  0.00753038],\n",
       "        ...,\n",
       "        [ 0.00752949,  0.00752952,  0.00753072, ...,  0.0075298 ,\n",
       "          0.00752941,  0.00753032],\n",
       "        [ 0.00752958,  0.00752934,  0.00753075, ...,  0.00752984,\n",
       "          0.0075293 ,  0.00753036],\n",
       "        [ 0.00752943,  0.00752938,  0.00753063, ...,  0.00752999,\n",
       "          0.00752925,  0.00753031]],\n",
       "\n",
       "       [[ 0.00753027,  0.0075299 ,  0.00753392, ...,  0.00753153,\n",
       "          0.00752969,  0.00753291],\n",
       "        [ 0.00753021,  0.00752969,  0.0075339 , ...,  0.00753104,\n",
       "          0.00752953,  0.00753271],\n",
       "        [ 0.00753034,  0.00752988,  0.00753395, ...,  0.00753145,\n",
       "          0.00752953,  0.00753282],\n",
       "        ...,\n",
       "        [ 0.00753005,  0.00753004,  0.00753411, ...,  0.00753098,\n",
       "          0.00752992,  0.00753262],\n",
       "        [ 0.00753031,  0.00752948,  0.00753414, ...,  0.00753099,\n",
       "          0.00752958,  0.00753278],\n",
       "        [ 0.00752984,  0.00752964,  0.00753381, ...,  0.0075315 ,\n",
       "          0.00752944,  0.00753259]],\n",
       "\n",
       "       [[ 0.01578126,  0.01573015,  0.01461247, ...,  0.01581458,\n",
       "          0.0002769 ,  0.01597089],\n",
       "        [ 0.01567249,  0.01583506,  0.01503892, ...,  0.01591203,\n",
       "         -0.00084902,  0.01598095],\n",
       "        [ 0.01562457,  0.01559504,  0.01462849, ...,  0.01593255,\n",
       "         -0.00078688,  0.0159635 ],\n",
       "        ...,\n",
       "        [ 0.01548569,  0.01595866,  0.01480143, ...,  0.01595329,\n",
       "         -0.00051568,  0.01597906],\n",
       "        [ 0.01588013,  0.01592116,  0.01522954, ...,  0.0157229 ,\n",
       "         -0.00083744,  0.01596466],\n",
       "        [ 0.01540776,  0.01589535,  0.0148182 , ...,  0.01597566,\n",
       "         -0.00066214,  0.01598289]],\n",
       "\n",
       "       ...,\n",
       "\n",
       "       [[ 0.00752923,  0.00752923,  0.00752923, ...,  0.00752923,\n",
       "          0.00752923,  0.00752923],\n",
       "        [ 0.00752923,  0.00752923,  0.00752923, ...,  0.00752923,\n",
       "          0.00752923,  0.00752923],\n",
       "        [ 0.00752923,  0.00752923,  0.00752923, ...,  0.00752923,\n",
       "          0.00752923,  0.00752923],\n",
       "        ...,\n",
       "        [ 0.00752923,  0.00752923,  0.00752923, ...,  0.00752923,\n",
       "          0.00752923,  0.00752923],\n",
       "        [ 0.00752923,  0.00752923,  0.00752923, ...,  0.00752923,\n",
       "          0.00752923,  0.00752923],\n",
       "        [ 0.00752923,  0.00752923,  0.00752923, ...,  0.00752923,\n",
       "          0.00752923,  0.00752923]],\n",
       "\n",
       "       [[ 0.00752923,  0.00752923,  0.00752923, ...,  0.00752923,\n",
       "          0.00752923,  0.00752923],\n",
       "        [ 0.00752923,  0.00752923,  0.00752923, ...,  0.00752923,\n",
       "          0.00752923,  0.00752923],\n",
       "        [ 0.00752923,  0.00752923,  0.00752923, ...,  0.00752923,\n",
       "          0.00752923,  0.00752923],\n",
       "        ...,\n",
       "        [ 0.00752923,  0.00752923,  0.00752923, ...,  0.00752923,\n",
       "          0.00752923,  0.00752923],\n",
       "        [ 0.00752923,  0.00752923,  0.00752923, ...,  0.00752923,\n",
       "          0.00752923,  0.00752923],\n",
       "        [ 0.00752923,  0.00752923,  0.00752923, ...,  0.00752923,\n",
       "          0.00752923,  0.00752923]],\n",
       "\n",
       "       [[ 0.00848429,  0.00836355,  0.01011031, ...,  0.00951851,\n",
       "          0.00780344,  0.01017093],\n",
       "        [ 0.00841132,  0.00815242,  0.01025695, ...,  0.00915577,\n",
       "          0.00755287,  0.01001933],\n",
       "        [ 0.0085038 ,  0.00816901,  0.01013454, ...,  0.0094199 ,\n",
       "          0.00756983,  0.01005298],\n",
       "        ...,\n",
       "        [ 0.00825842,  0.00841741,  0.01025188, ...,  0.00903995,\n",
       "          0.00794885,  0.00996629],\n",
       "        [ 0.00853042,  0.00792893,  0.01041089, ...,  0.00918063,\n",
       "          0.0075972 ,  0.010027  ],\n",
       "        [ 0.00809871,  0.00802905,  0.01014215, ...,  0.00942504,\n",
       "          0.00741811,  0.00997323]]], dtype=float32)>"
      ]
     },
     "execution_count": 9,
     "metadata": {},
     "output_type": "execute_result"
    }
   ],
   "source": [
    "num_primitives = enc_config_yaml['num_primitives']\n",
    "all_primitives = model.blend_vec_to_seq(np.eye(num_primitives))\n",
    "all_primitives"
   ]
  },
  {
   "cell_type": "code",
   "execution_count": 10,
   "metadata": {},
   "outputs": [],
   "source": [
    "save_dir = os.path.join(expt_root, 'primitives')\n",
    "os.makedirs(save_dir, exist_ok=True)\n",
    "for i in range(num_primitives):\n",
    "    np.save(os.path.join(save_dir, f\"PRIMITIVE--{i+1}_of_{num_primitives}.npy\"), all_primitives[i])"
   ]
  }
 ],
 "metadata": {
  "interpreter": {
   "hash": "73ef9dae1850d4826a6a2abacc613ceaa38b06453232522e74b0afa9475d9130"
  },
  "kernelspec": {
   "display_name": "Python 3.7.11 ('ai-choreo')",
   "language": "python",
   "name": "python3"
  },
  "language_info": {
   "codemirror_mode": {
    "name": "ipython",
    "version": 3
   },
   "file_extension": ".py",
   "mimetype": "text/x-python",
   "name": "python",
   "nbconvert_exporter": "python",
   "pygments_lexer": "ipython3",
   "version": "3.7.11"
  },
  "orig_nbformat": 4
 },
 "nbformat": 4,
 "nbformat_minor": 2
}
