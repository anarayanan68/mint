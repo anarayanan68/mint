{
 "cells": [
  {
   "cell_type": "code",
   "execution_count": 1,
   "metadata": {},
   "outputs": [],
   "source": [
    "%load_ext autoreload\n",
    "%autoreload 2"
   ]
  },
  {
   "cell_type": "code",
   "execution_count": 2,
   "metadata": {},
   "outputs": [],
   "source": [
    "import os\n",
    "import sys\n",
    "\n",
    "sys.path.append('/coc/scratch/anarayanan68/mint/')"
   ]
  },
  {
   "cell_type": "code",
   "execution_count": 5,
   "metadata": {},
   "outputs": [],
   "source": [
    "import numpy as np\n",
    "import tensorflow as tf\n",
    "from tensorflow import keras\n",
    "from tensorflow.keras import layers, initializers, regularizers\n",
    "\n",
    "from mint.core import fact_model, base_model_util, base_models, primitive_models, model_builder\n",
    "from mint.utils import inputs_util, config_util"
   ]
  },
  {
   "cell_type": "code",
   "execution_count": 6,
   "metadata": {},
   "outputs": [],
   "source": [
    "config_path = '/coc/scratch/anarayanan68/mint/configs/audio_based_blending__10clips10prims.config'\n",
    "enc_config_path = '/coc/scratch/anarayanan68/mint/configs/audio_based_blending__10clips100prims-enc_config.yml'"
   ]
  },
  {
   "cell_type": "code",
   "execution_count": 7,
   "metadata": {},
   "outputs": [],
   "source": [
    "expt_root = '/coc/scratch/anarayanan68/mint/_expts/audio_based_blending__10clips100prims'\n",
    "\n",
    "checkpoint_dir = os.path.join(expt_root, 'checkpoints/')"
   ]
  },
  {
   "cell_type": "code",
   "execution_count": 8,
   "metadata": {},
   "outputs": [],
   "source": [
    "configs = config_util.get_configs_from_pipeline_file(config_path)\n",
    "model_config = configs['model']\n",
    "eval_config = configs['eval_config']\n",
    "eval_dataset_config = configs['eval_dataset']"
   ]
  },
  {
   "cell_type": "code",
   "execution_count": 9,
   "metadata": {},
   "outputs": [],
   "source": [
    "enc_config_yaml = config_util.read_yaml_config(enc_config_path)"
   ]
  },
  {
   "cell_type": "code",
   "execution_count": 10,
   "metadata": {},
   "outputs": [
    {
     "data": {
      "text/plain": [
       "'/coc/scratch/anarayanan68/mint/_expts/audio_based_blending__10clips100prims/checkpoints/ckpt-999'"
      ]
     },
     "execution_count": 10,
     "metadata": {},
     "output_type": "execute_result"
    }
   ],
   "source": [
    "# Model build & restore\n",
    "\n",
    "model = model_builder.build(model_config, is_training=False,\n",
    "    encoder_config_yaml=enc_config_yaml, dataset_config=eval_dataset_config)\n",
    "\n",
    "checkpoint_manager=tf.train.CheckpointManager(\n",
    "    tf.train.Checkpoint(model=model),\n",
    "    directory=checkpoint_dir,\n",
    "    max_to_keep=None)\n",
    "\n",
    "checkpoint_manager.restore_or_initialize()"
   ]
  },
  {
   "cell_type": "code",
   "execution_count": 14,
   "metadata": {},
   "outputs": [
    {
     "data": {
      "text/plain": [
       "<tf.Tensor: shape=(100, 120, 147), dtype=float32, numpy=\n",
       "array([[[ 7.52901938e-03,  7.52930110e-03,  7.52972485e-03, ...,\n",
       "          7.52927503e-03,  7.52935093e-03,  7.52948178e-03],\n",
       "        [ 7.52897095e-03,  7.52930297e-03,  7.52979657e-03, ...,\n",
       "          7.52938306e-03,  7.52941472e-03,  7.52936536e-03],\n",
       "        [ 7.52906641e-03,  7.52924336e-03,  7.52974208e-03, ...,\n",
       "          7.52932392e-03,  7.52946781e-03,  7.52921496e-03],\n",
       "        ...,\n",
       "        [ 7.52925407e-03,  7.52929272e-03,  7.52957631e-03, ...,\n",
       "          7.52932485e-03,  7.52922613e-03,  7.52937514e-03],\n",
       "        [ 7.52930203e-03,  7.52934441e-03,  7.52943847e-03, ...,\n",
       "          7.52934488e-03,  7.52935046e-03,  7.52912788e-03],\n",
       "        [ 7.52918469e-03,  7.52918469e-03,  7.52963871e-03, ...,\n",
       "          7.52941333e-03,  7.52930949e-03,  7.52937933e-03]],\n",
       "\n",
       "       [[ 7.52923265e-03,  7.52923265e-03,  7.52923265e-03, ...,\n",
       "          7.52923265e-03,  7.52923265e-03,  7.52923265e-03],\n",
       "        [ 7.52923265e-03,  7.52923265e-03,  7.52923265e-03, ...,\n",
       "          7.52923265e-03,  7.52923265e-03,  7.52923265e-03],\n",
       "        [ 7.52923265e-03,  7.52923265e-03,  7.52923265e-03, ...,\n",
       "          7.52923265e-03,  7.52923265e-03,  7.52923265e-03],\n",
       "        ...,\n",
       "        [ 7.52923265e-03,  7.52923265e-03,  7.52923265e-03, ...,\n",
       "          7.52923265e-03,  7.52923265e-03,  7.52923265e-03],\n",
       "        [ 7.52923265e-03,  7.52923265e-03,  7.52923265e-03, ...,\n",
       "          7.52923265e-03,  7.52923265e-03,  7.52923265e-03],\n",
       "        [ 7.52923265e-03,  7.52923265e-03,  7.52923265e-03, ...,\n",
       "          7.52923265e-03,  7.52923265e-03,  7.52923265e-03]],\n",
       "\n",
       "       [[ 7.52923265e-03,  7.52923265e-03,  7.52923265e-03, ...,\n",
       "          7.52923265e-03,  7.52923265e-03,  7.52923265e-03],\n",
       "        [ 7.52923265e-03,  7.52923265e-03,  7.52923265e-03, ...,\n",
       "          7.52923265e-03,  7.52923265e-03,  7.52923265e-03],\n",
       "        [ 7.52923265e-03,  7.52923265e-03,  7.52923265e-03, ...,\n",
       "          7.52923265e-03,  7.52923265e-03,  7.52923265e-03],\n",
       "        ...,\n",
       "        [ 7.52923265e-03,  7.52923265e-03,  7.52923265e-03, ...,\n",
       "          7.52923265e-03,  7.52923265e-03,  7.52923265e-03],\n",
       "        [ 7.52923265e-03,  7.52923265e-03,  7.52923265e-03, ...,\n",
       "          7.52923265e-03,  7.52923265e-03,  7.52923265e-03],\n",
       "        [ 7.52923265e-03,  7.52923265e-03,  7.52923265e-03, ...,\n",
       "          7.52923265e-03,  7.52923265e-03,  7.52923265e-03]],\n",
       "\n",
       "       ...,\n",
       "\n",
       "       [[ 7.52923265e-03,  7.52923265e-03,  7.52923265e-03, ...,\n",
       "          7.52923265e-03,  7.52923265e-03,  7.52923265e-03],\n",
       "        [ 7.52923265e-03,  7.52923265e-03,  7.52923265e-03, ...,\n",
       "          7.52923265e-03,  7.52923265e-03,  7.52923265e-03],\n",
       "        [ 7.52923265e-03,  7.52923265e-03,  7.52923265e-03, ...,\n",
       "          7.52923265e-03,  7.52923265e-03,  7.52923265e-03],\n",
       "        ...,\n",
       "        [ 7.52923265e-03,  7.52923265e-03,  7.52923265e-03, ...,\n",
       "          7.52923265e-03,  7.52923265e-03,  7.52923265e-03],\n",
       "        [ 7.52923265e-03,  7.52923265e-03,  7.52923265e-03, ...,\n",
       "          7.52923265e-03,  7.52923265e-03,  7.52923265e-03],\n",
       "        [ 7.52923265e-03,  7.52923265e-03,  7.52923265e-03, ...,\n",
       "          7.52923265e-03,  7.52923265e-03,  7.52923265e-03]],\n",
       "\n",
       "       [[ 1.15988846e-03,  1.02114200e-03,  8.96110013e-03, ...,\n",
       "          6.00097468e-03, -8.44819442e-05,  1.67788174e-02],\n",
       "        [ 1.06748266e-04,  1.43486809e-03,  1.07029602e-02, ...,\n",
       "          1.38215665e-02,  4.19834629e-03,  1.38177173e-02],\n",
       "        [-8.37055195e-05,  1.09291961e-02,  5.00528654e-03, ...,\n",
       "          3.93661112e-03,  2.39762943e-03,  6.07584883e-03],\n",
       "        ...,\n",
       "        [ 1.16401194e-02,  9.03143547e-03,  9.61653888e-03, ...,\n",
       "          3.48770316e-03,  1.88614633e-02,  1.01251425e-02],\n",
       "        [ 1.18571250e-02,  7.07387971e-03, -1.68662053e-04, ...,\n",
       "          1.88781638e-02,  3.12067964e-03,  6.63965847e-03],\n",
       "        [ 7.05792755e-03,  8.78014229e-03,  5.44089591e-03, ...,\n",
       "          1.53882476e-02,  5.35849854e-03,  1.22883944e-02]],\n",
       "\n",
       "       [[ 7.52923265e-03,  7.52923265e-03,  7.52923265e-03, ...,\n",
       "          7.52923265e-03,  7.52923265e-03,  7.52923265e-03],\n",
       "        [ 7.52923265e-03,  7.52923265e-03,  7.52923265e-03, ...,\n",
       "          7.52923265e-03,  7.52923265e-03,  7.52923265e-03],\n",
       "        [ 7.52923265e-03,  7.52923265e-03,  7.52923265e-03, ...,\n",
       "          7.52923265e-03,  7.52923265e-03,  7.52923265e-03],\n",
       "        ...,\n",
       "        [ 7.52923265e-03,  7.52923265e-03,  7.52923265e-03, ...,\n",
       "          7.52923265e-03,  7.52923265e-03,  7.52923265e-03],\n",
       "        [ 7.52923265e-03,  7.52923265e-03,  7.52923265e-03, ...,\n",
       "          7.52923265e-03,  7.52923265e-03,  7.52923265e-03],\n",
       "        [ 7.52923265e-03,  7.52923265e-03,  7.52923265e-03, ...,\n",
       "          7.52923265e-03,  7.52923265e-03,  7.52923265e-03]]],\n",
       "      dtype=float32)>"
      ]
     },
     "execution_count": 14,
     "metadata": {},
     "output_type": "execute_result"
    }
   ],
   "source": [
    "model.blend_vec_to_seq(np.eye(enc_config_yaml['num_primitives']))"
   ]
  }
 ],
 "metadata": {
  "interpreter": {
   "hash": "73ef9dae1850d4826a6a2abacc613ceaa38b06453232522e74b0afa9475d9130"
  },
  "kernelspec": {
   "display_name": "Python 3.7.11 ('ai-choreo')",
   "language": "python",
   "name": "python3"
  },
  "language_info": {
   "codemirror_mode": {
    "name": "ipython",
    "version": 3
   },
   "file_extension": ".py",
   "mimetype": "text/x-python",
   "name": "python",
   "nbconvert_exporter": "python",
   "pygments_lexer": "ipython3",
   "version": "3.7.11"
  },
  "orig_nbformat": 4
 },
 "nbformat": 4,
 "nbformat_minor": 2
}
