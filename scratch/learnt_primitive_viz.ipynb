{
 "cells": [
  {
   "cell_type": "code",
   "execution_count": 1,
   "metadata": {},
   "outputs": [],
   "source": [
    "%load_ext autoreload\n",
    "%autoreload 2"
   ]
  },
  {
   "cell_type": "code",
   "execution_count": 2,
   "metadata": {},
   "outputs": [],
   "source": [
    "import os\n",
    "import sys\n",
    "\n",
    "sys.path.append('/coc/scratch/anarayanan68/mint/')"
   ]
  },
  {
   "cell_type": "code",
   "execution_count": 3,
   "metadata": {},
   "outputs": [
    {
     "name": "stderr",
     "output_type": "stream",
     "text": [
      "Warning: To use the exr data format, please install the OpenEXR package following the instructions detailed in the README at github.com/tensorflow/graphics.\n",
      "Warning: To use the threejs_vizualization, please install the colabtools package following the instructions detailed in the README at github.com/tensorflow/graphics.\n"
     ]
    }
   ],
   "source": [
    "import numpy as np\n",
    "import tensorflow as tf\n",
    "from tensorflow import keras\n",
    "from tensorflow.keras import layers, initializers, regularizers\n",
    "\n",
    "from mint.core import fact_model, base_model_util, base_models, primitive_models, model_builder\n",
    "from mint.utils import inputs_util, config_util"
   ]
  },
  {
   "cell_type": "code",
   "execution_count": 4,
   "metadata": {},
   "outputs": [],
   "source": [
    "config_path = '/coc/scratch/anarayanan68/mint/configs/audio_based_blending__embed_cond_vary_num_prims.config'\n",
    "enc_config_path = '/coc/scratch/anarayanan68/mint/configs/audio_based_blending__embed_cond_vary_num_prims-enc_config.yml'"
   ]
  },
  {
   "cell_type": "code",
   "execution_count": 5,
   "metadata": {},
   "outputs": [],
   "source": [
    "expt_root = '/coc/scratch/anarayanan68/mint/_expts/audio_based_blending__primitive_loss/10prims'\n",
    "\n",
    "checkpoint_dir = os.path.join(expt_root, 'checkpoints/')"
   ]
  },
  {
   "cell_type": "code",
   "execution_count": 6,
   "metadata": {},
   "outputs": [],
   "source": [
    "configs = config_util.get_configs_from_pipeline_file(config_path)\n",
    "model_config = configs['model']\n",
    "eval_config = configs['eval_config']\n",
    "eval_dataset_config = configs['eval_dataset']"
   ]
  },
  {
   "cell_type": "code",
   "execution_count": 10,
   "metadata": {},
   "outputs": [],
   "source": [
    "enc_config_yaml = config_util.read_yaml_config(enc_config_path)\n",
    "num_primitives = 10"
   ]
  },
  {
   "cell_type": "code",
   "execution_count": 11,
   "metadata": {},
   "outputs": [
    {
     "data": {
      "text/plain": [
       "'/coc/scratch/anarayanan68/mint/_expts/audio_based_blending__primitive_loss/10prims/checkpoints/ckpt-9999'"
      ]
     },
     "execution_count": 11,
     "metadata": {},
     "output_type": "execute_result"
    }
   ],
   "source": [
    "# Model build & restore\n",
    "\n",
    "model = model_builder.build(model_config, is_training=False,\n",
    "    num_primitives=num_primitives, encoder_config_yaml=enc_config_yaml, dataset_config=eval_dataset_config)\n",
    "\n",
    "checkpoint_manager=tf.train.CheckpointManager(\n",
    "    tf.train.Checkpoint(model=model),\n",
    "    directory=checkpoint_dir,\n",
    "    max_to_keep=None)\n",
    "\n",
    "checkpoint_manager.restore_or_initialize()"
   ]
  },
  {
   "cell_type": "code",
   "execution_count": 12,
   "metadata": {},
   "outputs": [
    {
     "data": {
      "text/plain": [
       "<tf.Tensor: shape=(10, 120, 147), dtype=float32, numpy=\n",
       "array([[[ 3.3190239e-02,  1.7497697e+00, -3.0541164e-01, ...,\n",
       "          5.8972882e-03,  9.8340136e-01,  2.1387385e-03],\n",
       "        [ 3.2793544e-02,  1.7505261e+00, -3.0513600e-01, ...,\n",
       "          5.7240548e-03,  9.8340166e-01,  2.0985205e-03],\n",
       "        [ 3.2733031e-02,  1.7520490e+00, -3.0426842e-01, ...,\n",
       "          6.2224963e-03,  9.8339880e-01,  2.2611252e-03],\n",
       "        ...,\n",
       "        [ 7.5281486e-03,  7.5208819e-03,  7.5243837e-03, ...,\n",
       "          7.5220419e-03,  7.5246431e-03,  7.5284904e-03],\n",
       "        [ 7.5279577e-03,  7.5192880e-03,  7.5247013e-03, ...,\n",
       "          7.5224005e-03,  7.5255777e-03,  7.5287782e-03],\n",
       "        [ 7.5282068e-03,  7.5205187e-03,  7.5248196e-03, ...,\n",
       "          7.5230682e-03,  7.5249332e-03,  7.5286287e-03]],\n",
       "\n",
       "       [[ 8.2359957e-03,  2.2788037e-02, -8.3739767e-03, ...,\n",
       "         -5.2015902e-04,  2.0457603e-02, -2.4870996e-04],\n",
       "        [ 7.0737228e-03,  2.2878394e-02, -8.3125364e-03, ...,\n",
       "         -6.4258889e-04,  2.1272201e-02,  1.6779665e-04],\n",
       "        [ 7.6077906e-03,  2.3201879e-02, -8.7070493e-03, ...,\n",
       "         -7.0671155e-04,  2.2707950e-02,  1.0197074e-03],\n",
       "        ...,\n",
       "        [ 7.6580453e-03,  2.1161786e-03,  1.1617640e-03, ...,\n",
       "         -7.9397613e-04,  6.3533308e-03, -9.1179804e-04],\n",
       "        [ 7.3626270e-03,  1.6077457e-03,  1.3127576e-03, ...,\n",
       "         -8.2664593e-04,  6.6860286e-03,  5.0321156e-05],\n",
       "        [ 7.7275694e-03,  1.7648536e-03,  1.9073716e-03, ...,\n",
       "         -6.2308548e-04,  6.5995078e-03, -8.7362056e-04]],\n",
       "\n",
       "       [[-2.6002407e-02, -2.1514121e-02, -2.7780969e-02, ...,\n",
       "         -2.7534848e-02, -1.0725328e-02, -3.1849984e-02],\n",
       "        [-1.6760435e-02, -1.0285380e-02, -5.2665658e-03, ...,\n",
       "          2.0632783e-02, -1.4503641e-02, -2.1011531e-02],\n",
       "        [-1.2434108e-02, -2.2256756e-02, -5.2599339e-03, ...,\n",
       "         -9.5498646e-03, -2.1881578e-03, -2.4047671e-02],\n",
       "        ...,\n",
       "        [-1.9289564e-02, -2.8600628e-02, -3.4242015e-02, ...,\n",
       "         -1.4781642e-02, -1.2862596e-02, -3.3412229e-02],\n",
       "        [-1.2053068e-02, -3.8842396e-03, -4.9190056e-02, ...,\n",
       "          6.2672412e-03, -3.0191217e-02, -9.9208606e-03],\n",
       "        [-2.2075465e-02, -3.8868308e-03, -3.4706373e-02, ...,\n",
       "         -1.7318649e-03, -2.4896394e-02, -1.8536627e-02]],\n",
       "\n",
       "       ...,\n",
       "\n",
       "       [[ 1.4962668e-03,  1.8949311e-02, -4.8336065e-03, ...,\n",
       "         -5.1221834e-03,  6.6973902e-03, -3.2306200e-06],\n",
       "        [ 1.7387838e-03,  1.9027127e-02,  7.8877099e-05, ...,\n",
       "         -5.5825585e-03,  5.9219375e-03, -5.1088008e-04],\n",
       "        [ 1.0488488e-03,  1.9412592e-02,  3.2119853e-03, ...,\n",
       "         -4.8367721e-03,  6.0312026e-03, -1.1592000e-03],\n",
       "        ...,\n",
       "        [ 1.9378639e-03,  2.2647185e-03,  6.1155846e-03, ...,\n",
       "         -5.5961893e-03,  4.4773574e-04,  1.8352791e-03],\n",
       "        [ 1.4584627e-03,  6.4602337e-04, -5.1792181e-04, ...,\n",
       "         -5.2487543e-03,  5.5982074e-04, -5.9423526e-03],\n",
       "        [ 1.4935300e-03,  2.0075617e-03,  6.5055029e-03, ...,\n",
       "         -4.7522318e-03,  7.1331899e-04, -4.4098096e-03]],\n",
       "\n",
       "       [[ 3.3188757e-02,  1.7494496e+00, -3.0540228e-01, ...,\n",
       "          5.8970791e-03,  9.8327637e-01,  2.1388305e-03],\n",
       "        [ 3.2791831e-02,  1.7502351e+00, -3.0512330e-01, ...,\n",
       "          5.7238149e-03,  9.8327380e-01,  2.0985815e-03],\n",
       "        [ 3.2731574e-02,  1.7517893e+00, -3.0425876e-01, ...,\n",
       "          6.2222225e-03,  9.8327833e-01,  2.2612172e-03],\n",
       "        ...,\n",
       "        [ 7.7846120e-03,  6.4073442e-03,  7.0999232e-03, ...,\n",
       "          7.0409388e-03,  7.6028658e-03,  7.2449096e-03],\n",
       "        [ 7.7279019e-03,  6.2906370e-03,  7.1343821e-03, ...,\n",
       "          7.0764809e-03,  7.6479265e-03,  7.3000505e-03],\n",
       "        [ 7.7728806e-03,  6.4085741e-03,  7.1136742e-03, ...,\n",
       "          7.1695698e-03,  7.6558716e-03,  7.2721434e-03]],\n",
       "\n",
       "       [[ 3.3177800e-02,  1.7440591e+00, -3.0531967e-01, ...,\n",
       "          5.8960519e-03,  9.8193008e-01,  2.1390619e-03],\n",
       "        [ 3.2778736e-02,  1.7450237e+00, -3.0501708e-01, ...,\n",
       "          5.7226969e-03,  9.8196608e-01,  2.0987545e-03],\n",
       "        [ 3.2720950e-02,  1.7467939e+00, -3.0417493e-01, ...,\n",
       "          6.2209698e-03,  9.8212177e-01,  2.2613204e-03],\n",
       "        ...,\n",
       "        [ 7.8964885e-03,  5.0920784e-03,  6.2050563e-03, ...,\n",
       "          5.8382177e-03,  7.3176338e-03,  6.8849656e-03],\n",
       "        [ 7.7712378e-03,  4.8294538e-03,  6.3041570e-03, ...,\n",
       "          5.9256926e-03,  7.4583841e-03,  7.0437700e-03],\n",
       "        [ 7.8754351e-03,  5.0280867e-03,  6.2870113e-03, ...,\n",
       "          6.1406605e-03,  7.4278861e-03,  6.9618747e-03]]], dtype=float32)>"
      ]
     },
     "execution_count": 12,
     "metadata": {},
     "output_type": "execute_result"
    }
   ],
   "source": [
    "all_primitives = model.blend_vec_to_seq(np.eye(num_primitives))\n",
    "all_primitives"
   ]
  },
  {
   "cell_type": "code",
   "execution_count": 13,
   "metadata": {},
   "outputs": [],
   "source": [
    "save_dir = os.path.join(expt_root, 'primitives')\n",
    "os.makedirs(save_dir, exist_ok=True)\n",
    "for i in range(num_primitives):\n",
    "    np.save(os.path.join(save_dir, f\"PRIMITIVE--{i+1}_of_{num_primitives}.npy\"), all_primitives[i])"
   ]
  }
 ],
 "metadata": {
  "interpreter": {
   "hash": "73ef9dae1850d4826a6a2abacc613ceaa38b06453232522e74b0afa9475d9130"
  },
  "kernelspec": {
   "display_name": "Python 3.7.11 ('ai-choreo')",
   "language": "python",
   "name": "python3"
  },
  "language_info": {
   "codemirror_mode": {
    "name": "ipython",
    "version": 3
   },
   "file_extension": ".py",
   "mimetype": "text/x-python",
   "name": "python",
   "nbconvert_exporter": "python",
   "pygments_lexer": "ipython3",
   "version": "3.7.11"
  },
  "orig_nbformat": 4
 },
 "nbformat": 4,
 "nbformat_minor": 2
}
