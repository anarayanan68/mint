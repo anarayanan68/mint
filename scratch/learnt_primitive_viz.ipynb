{
 "cells": [
  {
   "cell_type": "code",
   "execution_count": 1,
   "metadata": {},
   "outputs": [],
   "source": [
    "%load_ext autoreload\n",
    "%autoreload 2"
   ]
  },
  {
   "cell_type": "code",
   "execution_count": 2,
   "metadata": {},
   "outputs": [],
   "source": [
    "import os\n",
    "import sys\n",
    "\n",
    "sys.path.append('/coc/scratch/anarayanan68/mint/')"
   ]
  },
  {
   "cell_type": "code",
   "execution_count": 3,
   "metadata": {},
   "outputs": [
    {
     "name": "stderr",
     "output_type": "stream",
     "text": [
      "Warning: To use the exr data format, please install the OpenEXR package following the instructions detailed in the README at github.com/tensorflow/graphics.\n",
      "Warning: To use the threejs_vizualization, please install the colabtools package following the instructions detailed in the README at github.com/tensorflow/graphics.\n"
     ]
    }
   ],
   "source": [
    "import numpy as np\n",
    "import tensorflow as tf\n",
    "from tensorflow import keras\n",
    "from tensorflow.keras import layers, initializers, regularizers\n",
    "\n",
    "from mint.core import fact_model, base_model_util, base_models, primitive_models, model_builder\n",
    "from mint.utils import inputs_util, config_util"
   ]
  },
  {
   "cell_type": "code",
   "execution_count": 4,
   "metadata": {},
   "outputs": [],
   "source": [
    "config_path = '/coc/scratch/anarayanan68/mint/configs/audio_based_blending__10clips10prims.config'\n",
    "enc_config_path = '/coc/scratch/anarayanan68/mint/configs/audio_based_blending__10clips100prims-enc_config.yml'"
   ]
  },
  {
   "cell_type": "code",
   "execution_count": 5,
   "metadata": {},
   "outputs": [],
   "source": [
    "expt_root = '/coc/scratch/anarayanan68/mint/_expts/audio_based_blending__nonconst_embed_init'\n",
    "\n",
    "checkpoint_dir = os.path.join(expt_root, 'checkpoints/')"
   ]
  },
  {
   "cell_type": "code",
   "execution_count": 6,
   "metadata": {},
   "outputs": [],
   "source": [
    "configs = config_util.get_configs_from_pipeline_file(config_path)\n",
    "model_config = configs['model']\n",
    "eval_config = configs['eval_config']\n",
    "eval_dataset_config = configs['eval_dataset']"
   ]
  },
  {
   "cell_type": "code",
   "execution_count": 7,
   "metadata": {},
   "outputs": [],
   "source": [
    "enc_config_yaml = config_util.read_yaml_config(enc_config_path)"
   ]
  },
  {
   "cell_type": "code",
   "execution_count": 8,
   "metadata": {},
   "outputs": [
    {
     "data": {
      "text/plain": [
       "'/coc/scratch/anarayanan68/mint/_expts/audio_based_blending__nonconst_embed_init/checkpoints/ckpt-999'"
      ]
     },
     "execution_count": 8,
     "metadata": {},
     "output_type": "execute_result"
    }
   ],
   "source": [
    "# Model build & restore\n",
    "\n",
    "model = model_builder.build(model_config, is_training=False,\n",
    "    encoder_config_yaml=enc_config_yaml, dataset_config=eval_dataset_config)\n",
    "\n",
    "checkpoint_manager=tf.train.CheckpointManager(\n",
    "    tf.train.Checkpoint(model=model),\n",
    "    directory=checkpoint_dir,\n",
    "    max_to_keep=None)\n",
    "\n",
    "checkpoint_manager.restore_or_initialize()"
   ]
  },
  {
   "cell_type": "code",
   "execution_count": 10,
   "metadata": {},
   "outputs": [
    {
     "data": {
      "text/plain": [
       "<tf.Tensor: shape=(100, 120, 147), dtype=float32, numpy=\n",
       "array([[[ 5.42774843e-03, -1.79649685e-02,  7.54127884e-03, ...,\n",
       "         -1.76014996e-03,  6.09469041e-03, -2.54331203e-03],\n",
       "        [ 9.18337144e-03,  2.19735070e-04, -1.01251705e-02, ...,\n",
       "          2.44990736e-03,  8.71144701e-03,  1.80374142e-02],\n",
       "        [ 8.53181258e-03,  1.35866981e-02,  1.11544728e-02, ...,\n",
       "          1.83612145e-02,  3.67516768e-05, -6.54187379e-03],\n",
       "        ...,\n",
       "        [-3.26880417e-03, -1.56684965e-02, -7.22290203e-03, ...,\n",
       "          1.80533826e-02,  1.36567531e-02,  6.36316184e-03],\n",
       "        [-1.20885717e-02, -5.07602282e-03,  1.15867646e-03, ...,\n",
       "          1.59240160e-02, -1.46949599e-02,  1.22828381e-02],\n",
       "        [ 1.68150309e-02,  1.25663029e-02, -8.08002800e-03, ...,\n",
       "          9.32927895e-03, -2.76051369e-03, -1.40346056e-02]],\n",
       "\n",
       "       [[-6.08389312e-03,  1.32947313e-02, -7.45249446e-03, ...,\n",
       "         -1.17176389e-02,  1.24196829e-02,  5.98192960e-03],\n",
       "        [-1.00439386e-02, -4.44061914e-03, -1.42241847e-02, ...,\n",
       "          5.40930638e-03, -1.39597943e-02, -9.80345812e-03],\n",
       "        [ 6.96274079e-03, -7.34281959e-03, -1.76686011e-02, ...,\n",
       "          1.17736533e-02,  2.12848932e-03,  1.42226052e-02],\n",
       "        ...,\n",
       "        [-1.81970932e-02,  3.69945914e-03,  1.64094418e-02, ...,\n",
       "         -1.62869338e-02, -5.78355044e-03, -4.24960582e-03],\n",
       "        [ 8.90297163e-03,  7.87439011e-03,  1.30501408e-02, ...,\n",
       "         -1.08684245e-02, -1.82500519e-02, -1.03070671e-02],\n",
       "        [-1.10686440e-02,  1.77604414e-03,  1.34492619e-02, ...,\n",
       "         -9.80759622e-04, -7.83901755e-03, -1.34414639e-02]],\n",
       "\n",
       "       [[ 1.93740765e-03,  1.36200711e-03, -1.47145987e-02, ...,\n",
       "         -6.65378291e-04, -8.72375723e-03,  1.46966679e-02],\n",
       "        [ 6.28757617e-03,  6.84746448e-03,  8.12669471e-03, ...,\n",
       "         -1.19417105e-02,  1.55683570e-02,  1.45526687e-02],\n",
       "        [-1.76272076e-02,  5.77337854e-03,  1.74197531e-03, ...,\n",
       "         -1.41220400e-02, -4.07447427e-04,  8.96656048e-03],\n",
       "        ...,\n",
       "        [ 9.78263095e-03, -1.25993034e-02, -1.65112154e-03, ...,\n",
       "         -1.66454688e-02,  5.83287328e-03, -1.68133713e-03],\n",
       "        [ 1.36397779e-02,  2.36335816e-03,  1.82581786e-02, ...,\n",
       "          9.96297412e-03, -4.39060526e-03, -4.21174383e-03],\n",
       "        [ 1.72262620e-02, -1.52676301e-02,  1.06497174e-02, ...,\n",
       "         -1.28475679e-02, -1.63517445e-02, -2.28416501e-03]],\n",
       "\n",
       "       ...,\n",
       "\n",
       "       [[-7.09603122e-03,  1.12107303e-02,  1.17811821e-02, ...,\n",
       "         -1.94781355e-03, -1.38256932e-02,  3.41787309e-05],\n",
       "        [-3.10804881e-03,  3.80175165e-03,  1.60884075e-02, ...,\n",
       "          1.57136060e-02, -2.55711656e-03, -1.07738255e-02],\n",
       "        [ 1.62968989e-02,  6.41477248e-03,  1.08610755e-02, ...,\n",
       "         -9.95473377e-03,  3.87562293e-04,  5.83532872e-03],\n",
       "        ...,\n",
       "        [ 4.84385388e-03, -1.12007018e-02, -1.07388478e-02, ...,\n",
       "         -1.68086234e-02, -5.48677938e-03,  1.31366933e-02],\n",
       "        [ 3.70041584e-03,  1.47690671e-02,  1.20648220e-02, ...,\n",
       "         -3.32443113e-03, -1.24704454e-03,  2.04882445e-03],\n",
       "        [-5.47981123e-03,  1.37116872e-02,  1.78808495e-02, ...,\n",
       "          1.05048884e-02, -6.96370937e-03,  1.35543654e-02]],\n",
       "\n",
       "       [[-1.23865921e-02,  1.36548094e-03,  1.46076642e-02, ...,\n",
       "          1.10613527e-02, -1.10783009e-02, -1.19040674e-02],\n",
       "        [-9.94027406e-03, -1.58007685e-02,  1.72723047e-02, ...,\n",
       "          1.53971082e-02,  1.41248032e-02, -1.29347537e-02],\n",
       "        [ 1.82576180e-02,  1.54251885e-02, -2.52417708e-03, ...,\n",
       "         -1.55649511e-02,  6.75323186e-03, -1.80767253e-02],\n",
       "        ...,\n",
       "        [-3.08957230e-03, -7.07189878e-03,  1.29568912e-02, ...,\n",
       "          1.53544098e-02, -6.73738495e-03, -1.57518350e-02],\n",
       "        [ 9.44371568e-04, -9.04334337e-03,  1.19729144e-02, ...,\n",
       "         -7.83760846e-03,  1.21469116e-02,  1.54053969e-02],\n",
       "        [ 1.01253102e-02, -9.32142604e-03, -5.57942607e-04, ...,\n",
       "          1.60640478e-02,  1.09094637e-03, -1.05643636e-02]],\n",
       "\n",
       "       [[ 8.42855428e-04,  3.88208288e-03, -1.51683008e-02, ...,\n",
       "         -1.06465854e-02, -9.75623354e-03,  5.47985733e-03],\n",
       "        [-4.48823813e-03, -1.03744641e-02,  3.96111840e-03, ...,\n",
       "          1.70335751e-02, -1.79889072e-02, -2.55967514e-03],\n",
       "        [ 5.92934061e-03,  7.48189399e-03, -1.43610639e-02, ...,\n",
       "          1.17898062e-02,  4.47286991e-03, -1.49953626e-02],\n",
       "        ...,\n",
       "        [ 5.51623758e-03, -4.75309527e-04,  3.28189903e-03, ...,\n",
       "          7.07021623e-04, -1.56901404e-02,  9.26834811e-03],\n",
       "        [ 1.16791073e-02, -8.45532306e-03,  1.12409825e-02, ...,\n",
       "          7.99575727e-03, -1.70359910e-02,  8.79487675e-03],\n",
       "        [ 1.61466356e-02,  9.75297298e-03,  6.46962039e-03, ...,\n",
       "         -7.59303709e-03, -1.63392443e-02,  1.14450231e-03]]],\n",
       "      dtype=float32)>"
      ]
     },
     "execution_count": 10,
     "metadata": {},
     "output_type": "execute_result"
    }
   ],
   "source": [
    "num_primitives = enc_config_yaml['num_primitives']\n",
    "all_primitives = model.blend_vec_to_seq(np.eye(num_primitives))\n",
    "all_primitives"
   ]
  },
  {
   "cell_type": "code",
   "execution_count": 11,
   "metadata": {},
   "outputs": [],
   "source": [
    "save_dir = os.path.join(expt_root, 'primitives')\n",
    "os.makedirs(save_dir, exist_ok=True)\n",
    "for i in range(num_primitives):\n",
    "    np.save(os.path.join(save_dir, f\"PRIMITIVE--{i+1}_of_{num_primitives}.npy\"), all_primitives[i])"
   ]
  }
 ],
 "metadata": {
  "interpreter": {
   "hash": "73ef9dae1850d4826a6a2abacc613ceaa38b06453232522e74b0afa9475d9130"
  },
  "kernelspec": {
   "display_name": "Python 3.7.11 ('ai-choreo')",
   "language": "python",
   "name": "python3"
  },
  "language_info": {
   "codemirror_mode": {
    "name": "ipython",
    "version": 3
   },
   "file_extension": ".py",
   "mimetype": "text/x-python",
   "name": "python",
   "nbconvert_exporter": "python",
   "pygments_lexer": "ipython3",
   "version": "3.7.11"
  },
  "orig_nbformat": 4
 },
 "nbformat": 4,
 "nbformat_minor": 2
}
