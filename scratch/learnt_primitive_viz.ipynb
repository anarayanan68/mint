{
 "cells": [
  {
   "cell_type": "code",
   "execution_count": 1,
   "metadata": {},
   "outputs": [],
   "source": [
    "%load_ext autoreload\n",
    "%autoreload 2"
   ]
  },
  {
   "cell_type": "code",
   "execution_count": 2,
   "metadata": {},
   "outputs": [],
   "source": [
    "import os\n",
    "import sys\n",
    "\n",
    "sys.path.append('/coc/scratch/anarayanan68/mint/')"
   ]
  },
  {
   "cell_type": "code",
   "execution_count": 3,
   "metadata": {},
   "outputs": [
    {
     "name": "stderr",
     "output_type": "stream",
     "text": [
      "Warning: To use the exr data format, please install the OpenEXR package following the instructions detailed in the README at github.com/tensorflow/graphics.\n",
      "Warning: To use the threejs_vizualization, please install the colabtools package following the instructions detailed in the README at github.com/tensorflow/graphics.\n"
     ]
    }
   ],
   "source": [
    "import numpy as np\n",
    "import tensorflow as tf\n",
    "from tensorflow import keras\n",
    "from tensorflow.keras import layers, initializers, regularizers\n",
    "\n",
    "from mint.core import fact_model, base_model_util, base_models, primitive_models, model_builder\n",
    "from mint.utils import inputs_util, config_util"
   ]
  },
  {
   "cell_type": "code",
   "execution_count": 4,
   "metadata": {},
   "outputs": [],
   "source": [
    "config_path = '/coc/scratch/anarayanan68/mint/configs/audio_based_blending__embed_cond_vary_num_prims.config'\n",
    "enc_config_path = '/coc/scratch/anarayanan68/mint/configs/audio_based_blending__embed_cond_vary_num_prims-enc_config.yml'"
   ]
  },
  {
   "cell_type": "code",
   "execution_count": 5,
   "metadata": {},
   "outputs": [],
   "source": [
    "expt_root = '/coc/scratch/anarayanan68/mint/_expts/audio_based_blending__embed_cond_vary_num_prims/5prims'\n",
    "\n",
    "checkpoint_dir = os.path.join(expt_root, 'checkpoints/')"
   ]
  },
  {
   "cell_type": "code",
   "execution_count": 6,
   "metadata": {},
   "outputs": [],
   "source": [
    "configs = config_util.get_configs_from_pipeline_file(config_path)\n",
    "model_config = configs['model']\n",
    "eval_config = configs['eval_config']\n",
    "eval_dataset_config = configs['eval_dataset']"
   ]
  },
  {
   "cell_type": "code",
   "execution_count": 7,
   "metadata": {},
   "outputs": [],
   "source": [
    "enc_config_yaml = config_util.read_yaml_config(enc_config_path)\n",
    "num_primitives = 5"
   ]
  },
  {
   "cell_type": "code",
   "execution_count": 8,
   "metadata": {},
   "outputs": [
    {
     "data": {
      "text/plain": [
       "'/coc/scratch/anarayanan68/mint/_expts/audio_based_blending__embed_cond_vary_num_prims/5prims/checkpoints/ckpt-9999'"
      ]
     },
     "execution_count": 8,
     "metadata": {},
     "output_type": "execute_result"
    }
   ],
   "source": [
    "# Model build & restore\n",
    "\n",
    "model = model_builder.build(model_config, is_training=False,\n",
    "    num_primitives=num_primitives, encoder_config_yaml=enc_config_yaml, dataset_config=eval_dataset_config)\n",
    "\n",
    "checkpoint_manager=tf.train.CheckpointManager(\n",
    "    tf.train.Checkpoint(model=model),\n",
    "    directory=checkpoint_dir,\n",
    "    max_to_keep=None)\n",
    "\n",
    "checkpoint_manager.restore_or_initialize()"
   ]
  },
  {
   "cell_type": "code",
   "execution_count": 9,
   "metadata": {},
   "outputs": [
    {
     "data": {
      "text/plain": [
       "<tf.Tensor: shape=(5, 120, 147), dtype=float32, numpy=\n",
       "array([[[ 1.23601416e-02,  8.37948732e-03,  1.48097500e-02, ...,\n",
       "          1.47481775e-02,  3.27057147e-04, -8.02447787e-04],\n",
       "        [ 1.23652630e-02,  9.14637744e-03,  1.48073277e-02, ...,\n",
       "          1.46891316e-02,  3.00287065e-04, -8.53989332e-04],\n",
       "        [ 1.12359747e-02,  9.33888089e-03,  1.48040680e-02, ...,\n",
       "          1.47488862e-02,  3.26976791e-04,  9.28210467e-03],\n",
       "        ...,\n",
       "        [ 1.42292064e-02,  9.62257851e-03,  1.47328898e-02, ...,\n",
       "          1.45465108e-02,  3.62224790e-04,  1.01557532e-02],\n",
       "        [ 1.12612415e-02,  9.00646113e-03,  1.48240821e-02, ...,\n",
       "          1.47614479e-02,  2.92878540e-04,  1.04221907e-02],\n",
       "        [ 1.15507375e-02,  9.50073265e-03,  1.47932386e-02, ...,\n",
       "          1.46513898e-02,  3.26723210e-04,  1.11128611e-05]],\n",
       "\n",
       "       [[ 7.52923265e-03,  7.52923265e-03,  7.52923265e-03, ...,\n",
       "          7.52923265e-03,  7.52923265e-03,  7.52923265e-03],\n",
       "        [ 7.52923265e-03,  7.52923265e-03,  7.52923265e-03, ...,\n",
       "          7.52923265e-03,  7.52923265e-03,  7.52923265e-03],\n",
       "        [ 7.52923265e-03,  7.52923265e-03,  7.52923265e-03, ...,\n",
       "          7.52923265e-03,  7.52923265e-03,  7.52923265e-03],\n",
       "        ...,\n",
       "        [ 7.52923265e-03,  7.52923265e-03,  7.52923265e-03, ...,\n",
       "          7.52923265e-03,  7.52923265e-03,  7.52923265e-03],\n",
       "        [ 7.52923265e-03,  7.52923265e-03,  7.52923265e-03, ...,\n",
       "          7.52923265e-03,  7.52923265e-03,  7.52923265e-03],\n",
       "        [ 7.52923265e-03,  7.52923265e-03,  7.52923265e-03, ...,\n",
       "          7.52923265e-03,  7.52923265e-03,  7.52923265e-03]],\n",
       "\n",
       "       [[ 7.53378309e-03,  7.51962047e-03,  7.54903490e-03, ...,\n",
       "          7.54086953e-03,  7.51469471e-03,  7.52761681e-03],\n",
       "        [ 7.53657520e-03,  7.52099976e-03,  7.54935853e-03, ...,\n",
       "          7.54173705e-03,  7.51418807e-03,  7.52751157e-03],\n",
       "        [ 7.53382826e-03,  7.52096577e-03,  7.54878623e-03, ...,\n",
       "          7.54123880e-03,  7.51429144e-03,  7.52872834e-03],\n",
       "        ...,\n",
       "        [ 7.53572863e-03,  7.52208941e-03,  7.55343679e-03, ...,\n",
       "          7.54168537e-03,  7.51369959e-03,  7.52912275e-03],\n",
       "        [ 7.53390510e-03,  7.52046937e-03,  7.54870242e-03, ...,\n",
       "          7.54164252e-03,  7.51415640e-03,  7.52958655e-03],\n",
       "        [ 7.53384223e-03,  7.52183190e-03,  7.55076949e-03, ...,\n",
       "          7.54021388e-03,  7.51588680e-03,  7.52601167e-03]],\n",
       "\n",
       "       [[ 8.58825259e-03,  4.11168952e-03,  1.22170430e-02, ...,\n",
       "          1.06478902e-02,  3.68501130e-03,  6.16918178e-03],\n",
       "        [ 9.16784350e-03,  4.34833905e-03,  1.22435922e-02, ...,\n",
       "          1.06941219e-02,  3.54240788e-03,  6.02093432e-03],\n",
       "        [ 8.30485113e-03,  4.30486957e-03,  1.21754594e-02, ...,\n",
       "          1.07393879e-02,  3.61569761e-03,  6.55852212e-03],\n",
       "        ...,\n",
       "        [ 9.13532637e-03,  4.50413628e-03,  1.25338305e-02, ...,\n",
       "          1.03614647e-02,  3.60286515e-03,  6.55814959e-03],\n",
       "        [ 8.33555590e-03,  4.25817538e-03,  1.21811777e-02, ...,\n",
       "          1.08086737e-02,  3.53848888e-03,  6.75159181e-03],\n",
       "        [ 8.54955055e-03,  4.43744194e-03,  1.23653440e-02, ...,\n",
       "          1.03640556e-02,  3.86050320e-03,  5.62510081e-03]],\n",
       "\n",
       "       [[-8.08842087e-05, -7.95297325e-03,  8.19106214e-03, ...,\n",
       "          7.47800525e-03, -4.51799668e-03, -2.60569365e-03],\n",
       "        [-1.77752256e-04, -9.24465340e-03,  8.25199764e-03, ...,\n",
       "          9.07465909e-03, -5.65077830e-03, -1.41267932e-03],\n",
       "        [ 5.17191293e-05, -8.25316086e-03,  4.34196508e-03, ...,\n",
       "          1.18607953e-02, -7.84364250e-03, -3.11443629e-03],\n",
       "        ...,\n",
       "        [ 1.86084246e-03, -5.72320214e-03,  1.08893439e-02, ...,\n",
       "          7.79180136e-03, -6.35621464e-03, -1.02488091e-03],\n",
       "        [-2.17395392e-03, -1.39936246e-02,  4.00287518e-03, ...,\n",
       "          7.42337061e-03, -8.13936349e-03,  4.62672033e-04],\n",
       "        [-1.39071727e-02, -1.42273912e-02, -3.31144594e-03, ...,\n",
       "         -8.86129960e-03, -1.08832959e-02, -1.10521549e-02]]],\n",
       "      dtype=float32)>"
      ]
     },
     "execution_count": 9,
     "metadata": {},
     "output_type": "execute_result"
    }
   ],
   "source": [
    "all_primitives = model.blend_vec_to_seq(np.eye(num_primitives))\n",
    "all_primitives"
   ]
  },
  {
   "cell_type": "code",
   "execution_count": 10,
   "metadata": {},
   "outputs": [],
   "source": [
    "save_dir = os.path.join(expt_root, 'primitives')\n",
    "os.makedirs(save_dir, exist_ok=True)\n",
    "for i in range(num_primitives):\n",
    "    np.save(os.path.join(save_dir, f\"PRIMITIVE--{i+1}_of_{num_primitives}.npy\"), all_primitives[i])"
   ]
  }
 ],
 "metadata": {
  "interpreter": {
   "hash": "73ef9dae1850d4826a6a2abacc613ceaa38b06453232522e74b0afa9475d9130"
  },
  "kernelspec": {
   "display_name": "Python 3.7.11 ('ai-choreo')",
   "language": "python",
   "name": "python3"
  },
  "language_info": {
   "codemirror_mode": {
    "name": "ipython",
    "version": 3
   },
   "file_extension": ".py",
   "mimetype": "text/x-python",
   "name": "python",
   "nbconvert_exporter": "python",
   "pygments_lexer": "ipython3",
   "version": "3.7.11"
  },
  "orig_nbformat": 4
 },
 "nbformat": 4,
 "nbformat_minor": 2
}
