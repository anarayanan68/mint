{
 "cells": [
  {
   "cell_type": "code",
   "execution_count": 1,
   "metadata": {},
   "outputs": [],
   "source": [
    "%load_ext autoreload\n",
    "%autoreload 2"
   ]
  },
  {
   "cell_type": "code",
   "execution_count": 2,
   "metadata": {},
   "outputs": [],
   "source": [
    "import os\n",
    "import sys\n",
    "\n",
    "sys.path.append('/coc/scratch/anarayanan68/mint/')"
   ]
  },
  {
   "cell_type": "code",
   "execution_count": 3,
   "metadata": {},
   "outputs": [
    {
     "name": "stderr",
     "output_type": "stream",
     "text": [
      "Warning: To use the exr data format, please install the OpenEXR package following the instructions detailed in the README at github.com/tensorflow/graphics.\n",
      "Warning: To use the threejs_vizualization, please install the colabtools package following the instructions detailed in the README at github.com/tensorflow/graphics.\n"
     ]
    }
   ],
   "source": [
    "import numpy as np\n",
    "import tensorflow as tf\n",
    "from tensorflow import keras\n",
    "from tensorflow.keras import layers, initializers, regularizers\n",
    "\n",
    "from mint.core import fact_model, base_model_util, base_models, primitive_models, model_builder\n",
    "from mint.utils import inputs_util, config_util"
   ]
  },
  {
   "cell_type": "code",
   "execution_count": 4,
   "metadata": {},
   "outputs": [],
   "source": [
    "config_path = '/coc/scratch/anarayanan68/mint/configs/audio_based_blending__embed_cond_vary_num_prims.config'\n",
    "enc_config_path = '/coc/scratch/anarayanan68/mint/configs/audio_based_blending__embed_cond_vary_num_prims-enc_config.yml'"
   ]
  },
  {
   "cell_type": "code",
   "execution_count": 5,
   "metadata": {},
   "outputs": [],
   "source": [
    "num_primitives = 20\n",
    "expt_root = f'/coc/scratch/anarayanan68/mint/_expts/audio_based_blending__embed_cond__L2_on_prims/{num_primitives}prims'\n",
    "\n",
    "checkpoint_dir = os.path.join(expt_root, 'checkpoints/')"
   ]
  },
  {
   "cell_type": "code",
   "execution_count": 6,
   "metadata": {},
   "outputs": [],
   "source": [
    "configs = config_util.get_configs_from_pipeline_file(config_path)\n",
    "model_config = configs['model']\n",
    "eval_config = configs['eval_config']\n",
    "eval_dataset_config = configs['eval_dataset']"
   ]
  },
  {
   "cell_type": "code",
   "execution_count": 7,
   "metadata": {},
   "outputs": [],
   "source": [
    "enc_config_yaml = config_util.read_yaml_config(enc_config_path)"
   ]
  },
  {
   "cell_type": "code",
   "execution_count": 8,
   "metadata": {},
   "outputs": [
    {
     "data": {
      "text/plain": [
       "'/coc/scratch/anarayanan68/mint/_expts/audio_based_blending__embed_cond__L2_on_prims/20prims/checkpoints/ckpt-9999'"
      ]
     },
     "execution_count": 8,
     "metadata": {},
     "output_type": "execute_result"
    }
   ],
   "source": [
    "# Model build & restore\n",
    "\n",
    "model = model_builder.build(model_config, is_training=False,\n",
    "    num_primitives=num_primitives, encoder_config_yaml=enc_config_yaml, dataset_config=eval_dataset_config)\n",
    "\n",
    "checkpoint_manager=tf.train.CheckpointManager(\n",
    "    tf.train.Checkpoint(model=model),\n",
    "    directory=checkpoint_dir,\n",
    "    max_to_keep=None)\n",
    "\n",
    "checkpoint_manager.restore_or_initialize()"
   ]
  },
  {
   "cell_type": "code",
   "execution_count": 9,
   "metadata": {},
   "outputs": [
    {
     "data": {
      "text/plain": [
       "<tf.Tensor: shape=(20, 120, 147), dtype=float32, numpy=\n",
       "array([[[-4.7377771e-33, -4.7378359e-33, -4.7384736e-33, ...,\n",
       "         -4.7377771e-33, -4.7378359e-33, -4.7384662e-33],\n",
       "        [-4.7377771e-33, -4.7384662e-33, -4.7384736e-33, ...,\n",
       "         -4.7378359e-33, -4.7378359e-33, -4.7384662e-33],\n",
       "        [-4.7377771e-33, -4.7378359e-33, -4.7384736e-33, ...,\n",
       "         -4.7378359e-33, -4.7378359e-33, -4.7384662e-33],\n",
       "        ...,\n",
       "        [-4.7377771e-33, -4.7378359e-33, -4.7377830e-33, ...,\n",
       "         -4.7377771e-33, -4.7378359e-33, -4.7384662e-33],\n",
       "        [-4.7377771e-33, -4.7384662e-33, -4.7377830e-33, ...,\n",
       "         -4.7378359e-33, -4.7378359e-33, -4.7384662e-33],\n",
       "        [-4.7378359e-33, -4.7384662e-33, -4.7384736e-33, ...,\n",
       "         -4.7377771e-33, -4.7378359e-33, -4.7384662e-33]],\n",
       "\n",
       "       [[-6.9793252e-08,  7.6786797e-08,  4.6918940e-14, ...,\n",
       "         -1.3940189e-32,  8.2696909e-32,  2.5367493e-08],\n",
       "        [-1.1678607e-07,  2.6478352e-15,  1.6153719e-16, ...,\n",
       "         -4.9009876e-22,  5.5922616e-32,  7.4768487e-08],\n",
       "        [-9.2496279e-08,  2.0338621e-14,  6.9187756e-18, ...,\n",
       "         -7.2919180e-18,  9.5950471e-21,  1.1534017e-09],\n",
       "        ...,\n",
       "        [-1.7625928e-07,  9.2108341e-14,  7.0076959e-29, ...,\n",
       "         -3.7510818e-32,  5.0073980e-29,  1.4707683e-07],\n",
       "        [-2.2242572e-08,  7.2503899e-14,  9.9264448e-14, ...,\n",
       "         -9.3367254e-22,  4.8646525e-26,  2.9760718e-08],\n",
       "        [-1.1474560e-07,  4.9626916e-18,  4.6264615e-12, ...,\n",
       "         -2.1190906e-32,  3.5806340e-32,  8.7794794e-09]],\n",
       "\n",
       "       [[-2.1273898e-33,  5.6798800e-33, -4.8068682e-33, ...,\n",
       "         -2.3072743e-33,  2.2625680e-33, -5.5319205e-34],\n",
       "        [ 6.1871565e-33,  5.0418775e-33, -1.9674249e-33, ...,\n",
       "          5.9646060e-33,  6.6871052e-33, -5.3148728e-34],\n",
       "        [-5.9320727e-33,  6.1038984e-33, -2.0315731e-33, ...,\n",
       "         -6.0739527e-33,  4.3953144e-33,  1.0500243e-33],\n",
       "        ...,\n",
       "        [ 9.4516431e-34, -5.9206579e-33, -4.9242178e-33, ...,\n",
       "          2.8806437e-33, -4.4141473e-33, -4.5600614e-33],\n",
       "        [ 1.2001812e-33, -3.5701659e-33,  9.1304907e-34, ...,\n",
       "         -4.9338150e-33, -1.5318087e-33,  7.9664494e-33],\n",
       "        [ 3.1404933e-33,  2.5983869e-33, -1.5140793e-33, ...,\n",
       "         -4.0640770e-33, -2.2065866e-33,  6.9752865e-33]],\n",
       "\n",
       "       ...,\n",
       "\n",
       "       [[-4.6120007e-33, -4.7288874e-33, -4.8073164e-33, ...,\n",
       "         -4.6167217e-33, -4.6730676e-33, -4.7628474e-33],\n",
       "        [-4.6302913e-33, -4.7563822e-33, -4.8177621e-33, ...,\n",
       "         -4.6166350e-33, -4.6665980e-33, -4.7781803e-33],\n",
       "        [-4.6350536e-33, -4.7411948e-33, -4.8096027e-33, ...,\n",
       "         -4.6426091e-33, -4.6669256e-33, -4.7524149e-33],\n",
       "        ...,\n",
       "        [-4.6088871e-33, -4.7228645e-33, -4.7919130e-33, ...,\n",
       "         -4.5958979e-33, -4.6716129e-33, -4.7656201e-33],\n",
       "        [-4.6320252e-33, -4.7411831e-33, -4.7983606e-33, ...,\n",
       "         -4.6279066e-33, -4.6751482e-33, -4.7554712e-33],\n",
       "        [-4.6339736e-33, -4.7595663e-33, -4.8112058e-33, ...,\n",
       "         -4.6026878e-33, -4.6665980e-33, -4.7663460e-33]],\n",
       "\n",
       "       [[-4.5684339e-33, -4.6860553e-33, -4.8340618e-33, ...,\n",
       "         -4.5604846e-33, -4.6506171e-33, -4.6920504e-33],\n",
       "        [-4.5752341e-33, -4.7013044e-33, -4.8374561e-33, ...,\n",
       "         -4.5569772e-33, -4.6481897e-33, -4.7102779e-33],\n",
       "        [-4.5810616e-33, -4.6884328e-33, -4.8360161e-33, ...,\n",
       "         -4.5691127e-33, -4.6520938e-33, -4.6846491e-33],\n",
       "        ...,\n",
       "        [-4.5606301e-33, -4.6737082e-33, -4.8073164e-33, ...,\n",
       "         -4.5314102e-33, -4.6420595e-33, -4.6930716e-33],\n",
       "        [-4.5785196e-33, -4.6859907e-33, -4.8246344e-33, ...,\n",
       "         -4.5618732e-33, -4.6538321e-33, -4.6890558e-33],\n",
       "        [-4.5726877e-33, -4.6991915e-33, -4.8375486e-33, ...,\n",
       "         -4.5385043e-33, -4.6412881e-33, -4.6920166e-33]],\n",
       "\n",
       "       [[-4.5527308e-33, -4.8705683e-33, -4.8009188e-33, ...,\n",
       "         -4.5164095e-33, -4.5197244e-33, -3.4388808e-33],\n",
       "        [-4.6279609e-33, -3.3673314e-33, -4.8493506e-33, ...,\n",
       "         -4.5515538e-33, -4.4802086e-33, -3.4530000e-33],\n",
       "        [-4.6428706e-33, -3.3142799e-33, -4.8117745e-33, ...,\n",
       "         -4.6573204e-33, -4.4563358e-33, -3.3917141e-33],\n",
       "        ...,\n",
       "        [-4.5759262e-33, -4.8965893e-33, -4.7953557e-33, ...,\n",
       "         -4.4838630e-33, -4.5297836e-33, -3.4463996e-33],\n",
       "        [-4.6039177e-33, -3.3261818e-33, -4.7964813e-33, ...,\n",
       "         -4.5847424e-33, -4.5365031e-33, -3.4042625e-33],\n",
       "        [-4.6612862e-33, -3.3928720e-33, -4.8147631e-33, ...,\n",
       "         -4.5045708e-33, -4.4932155e-33, -3.4496204e-33]]], dtype=float32)>"
      ]
     },
     "execution_count": 9,
     "metadata": {},
     "output_type": "execute_result"
    }
   ],
   "source": [
    "all_primitives = model.blend_vec_to_seq(np.eye(num_primitives))\n",
    "all_primitives"
   ]
  },
  {
   "cell_type": "code",
   "execution_count": 10,
   "metadata": {},
   "outputs": [],
   "source": [
    "save_dir = os.path.join(expt_root, 'primitives')\n",
    "os.makedirs(save_dir, exist_ok=True)\n",
    "for i in range(num_primitives):\n",
    "    np.save(os.path.join(save_dir, f\"PRIMITIVE--{i+1}_of_{num_primitives}.npy\"), all_primitives[i])"
   ]
  }
 ],
 "metadata": {
  "interpreter": {
   "hash": "73ef9dae1850d4826a6a2abacc613ceaa38b06453232522e74b0afa9475d9130"
  },
  "kernelspec": {
   "display_name": "Python 3.7.11 ('ai-choreo')",
   "language": "python",
   "name": "python3"
  },
  "language_info": {
   "codemirror_mode": {
    "name": "ipython",
    "version": 3
   },
   "file_extension": ".py",
   "mimetype": "text/x-python",
   "name": "python",
   "nbconvert_exporter": "python",
   "pygments_lexer": "ipython3",
   "version": "3.7.11"
  },
  "orig_nbformat": 4
 },
 "nbformat": 4,
 "nbformat_minor": 2
}
