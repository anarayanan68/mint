{
 "cells": [
  {
   "cell_type": "code",
   "execution_count": 8,
   "metadata": {},
   "outputs": [],
   "source": [
    "import numpy as np\n",
    "import hashlib\n",
    "import pickle\n",
    "import os\n",
    "\n",
    "from scipy.spatial.transform import Rotation as R\n",
    "from aist_plusplus.loader import AISTDataset"
   ]
  },
  {
   "cell_type": "code",
   "execution_count": 2,
   "metadata": {},
   "outputs": [
    {
     "data": {
      "text/plain": [
       "992"
      ]
     },
     "execution_count": 2,
     "metadata": {},
     "output_type": "execute_result"
    }
   ],
   "source": [
    "anno_dir = '/srv/share/datasets/AIST/aist_plusplus_final/'\n",
    "\n",
    "flag_train = True\n",
    "flag_val = True\n",
    "flag_test = True\n",
    "\n",
    "# create list\n",
    "seq_names = []\n",
    "if flag_train:\n",
    "    seq_names += np.loadtxt(\n",
    "        os.path.join(anno_dir, \"splits/crossmodal_train.txt\"), dtype=str\n",
    "    ).tolist()\n",
    "if flag_val:\n",
    "    seq_names += np.loadtxt(\n",
    "        os.path.join(anno_dir, \"splits/crossmodal_val.txt\"), dtype=str\n",
    "    ).tolist()\n",
    "if flag_test:\n",
    "    seq_names += np.loadtxt(\n",
    "        os.path.join(anno_dir, \"splits/crossmodal_test.txt\"), dtype=str\n",
    "    ).tolist()\n",
    "\n",
    "ignore_list = np.loadtxt(\n",
    "    os.path.join(anno_dir, \"ignore_list.txt\"), dtype=str\n",
    ").tolist()\n",
    "seq_names = [name for name in seq_names if name not in ignore_list]\n",
    "n_samples = len(seq_names)\n",
    "\n",
    "n_samples"
   ]
  },
  {
   "cell_type": "code",
   "execution_count": 3,
   "metadata": {},
   "outputs": [
    {
     "name": "stdout",
     "output_type": "stream",
     "text": [
      "processing 1 / 992\n",
      "Seq name: gWA_sFM_cAll_d25_mWA4_ch05 \t Motion shape: (1919, 219)\n"
     ]
    }
   ],
   "source": [
    "def compute_SMPL_motion(seq_name, motion_dir):\n",
    "    smpl_poses, smpl_scaling, smpl_trans = AISTDataset.load_motion(motion_dir, seq_name)\n",
    "    smpl_trans /= smpl_scaling\n",
    "    smpl_poses = R.from_rotvec(\n",
    "        smpl_poses.reshape(-1, 3)).as_matrix().reshape(smpl_poses.shape[0], -1)\n",
    "    smpl_motion = np.concatenate([smpl_trans, smpl_poses], axis=-1)\n",
    "    return smpl_motion\n",
    "\n",
    "\n",
    "motion_dir = os.path.join(anno_dir, 'motions')\n",
    "for i, seq_name in enumerate(seq_names[:1]):\n",
    "    print(\"processing %d / %d\" % (i + 1, n_samples))\n",
    "\n",
    "    smpl_motion = compute_SMPL_motion(seq_name, motion_dir)\n",
    "    print(f\"Seq name: {seq_name} \\t Motion shape: {smpl_motion.shape}\")"
   ]
  },
  {
   "cell_type": "code",
   "execution_count": 4,
   "metadata": {},
   "outputs": [
    {
     "data": {
      "text/plain": [
       "('gWA_sFM_cAll_d25_mWA4_ch05', (1919, 219))"
      ]
     },
     "execution_count": 4,
     "metadata": {},
     "output_type": "execute_result"
    }
   ],
   "source": [
    "seq_name, smpl_motion.shape"
   ]
  },
  {
   "cell_type": "markdown",
   "metadata": {},
   "source": [
    "## Hash based encoding"
   ]
  },
  {
   "cell_type": "code",
   "execution_count": 16,
   "metadata": {},
   "outputs": [
    {
     "data": {
      "text/plain": [
       "('gWA_sFM_cAll_d25_mWA2_ch03',\n",
       " <sha1 HASH object @ 0x7f9014096d50>,\n",
       " 'ad14b7cbe9559891300039c34deb35fe41321046')"
      ]
     },
     "execution_count": 16,
     "metadata": {},
     "output_type": "execute_result"
    }
   ],
   "source": [
    "h = hashlib.sha1(seq_name.encode('utf-8'))\n",
    "h_str = h.hexdigest()\n",
    "seq_name, h, h_str"
   ]
  },
  {
   "cell_type": "code",
   "execution_count": 17,
   "metadata": {
    "scrolled": true
   },
   "outputs": [
    {
     "data": {
      "text/plain": [
       "(array([[0.67608643, 0.71794128, 0.91145325, 0.59596252, 0.1875    ,\n",
       "         0.22563171, 0.30436707, 0.21090698, 0.25466919, 0.06356812]]),\n",
       " (1, 10))"
      ]
     },
     "execution_count": 17,
     "metadata": {},
     "output_type": "execute_result"
    }
   ],
   "source": [
    "stride = 4\n",
    "h_np = [float(int(h_str[i:i+stride], 16)) / 16**stride for i in range(0, len(h_str), stride)]\n",
    "h_np = np.array(h_np).reshape((1,-1))\n",
    "h_np, h_np.shape"
   ]
  },
  {
   "cell_type": "code",
   "execution_count": 18,
   "metadata": {},
   "outputs": [
    {
     "data": {
      "text/plain": [
       "(256, 219)"
      ]
     },
     "execution_count": 18,
     "metadata": {},
     "output_type": "execute_result"
    }
   ],
   "source": [
    "target_shape = (256,smpl_motion.shape[-1])\n",
    "# target_shape = smpl_motion.shape\n",
    "target_shape"
   ]
  },
  {
   "cell_type": "code",
   "execution_count": 19,
   "metadata": {},
   "outputs": [
    {
     "data": {
      "text/plain": [
       "56064"
      ]
     },
     "execution_count": 19,
     "metadata": {},
     "output_type": "execute_result"
    }
   ],
   "source": [
    "op_dim = np.prod(target_shape)\n",
    "op_dim"
   ]
  },
  {
   "cell_type": "code",
   "execution_count": 20,
   "metadata": {},
   "outputs": [
    {
     "data": {
      "text/plain": [
       "(256, 219)"
      ]
     },
     "execution_count": 20,
     "metadata": {},
     "output_type": "execute_result"
    }
   ],
   "source": [
    "wt_seed = 101\n",
    "wt_rng = np.random.default_rng(seed=wt_seed)\n",
    "\n",
    "hidden_size = 128\n",
    "\n",
    "w1 = wt_rng.normal(size=(h_np.shape[-1], hidden_size))\n",
    "b1 = wt_rng.normal(size=hidden_size)\n",
    "w2 = wt_rng.normal(size=(hidden_size, op_dim))\n",
    "b2 = wt_rng.normal(size=op_dim)\n",
    "\n",
    "z1 = h_np @ w1 + b1\n",
    "op = np.tanh(z1) @ w2 + b2\n",
    "op = op.reshape(target_shape)\n",
    "op.shape"
   ]
  },
  {
   "cell_type": "code",
   "execution_count": 21,
   "metadata": {},
   "outputs": [
    {
     "data": {
      "text/plain": [
       "array([[-11.91354572,  -5.7861633 ,  -1.8870801 , ...,  21.59820501,\n",
       "          1.29898365,   0.20761964],\n",
       "       [ -0.42679495,  -1.54306516,   6.25812674, ...,  -4.46167475,\n",
       "          2.63731778,  -3.35751478],\n",
       "       [  4.11336119,  -5.81576417,   0.21762593, ...,   6.76187817,\n",
       "         -8.83036263,  -0.12478315],\n",
       "       ...,\n",
       "       [ -7.02777121,   2.24370707,  10.21025277, ...,  -7.88181658,\n",
       "         -1.93101821,   9.23042816],\n",
       "       [  6.97445448,   0.05338962,  12.24750809, ...,  -6.75456146,\n",
       "         12.18555258,  10.56377414],\n",
       "       [  1.08006478, -14.35862257,  10.30874062, ...,  -0.52610094,\n",
       "         -8.13066487,  -3.35579391]])"
      ]
     },
     "execution_count": 21,
     "metadata": {},
     "output_type": "execute_result"
    }
   ],
   "source": [
    "op"
   ]
  },
  {
   "cell_type": "code",
   "execution_count": 23,
   "metadata": {},
   "outputs": [
    {
     "data": {
      "text/plain": [
       "True"
      ]
     },
     "execution_count": 23,
     "metadata": {},
     "output_type": "execute_result"
    }
   ],
   "source": [
    "def encode(smpl_motion, seq_name, target_shape):\n",
    "    global w1, b1, w2, b2\n",
    "    h = hashlib.sha1(seq_name.encode('utf-8'))\n",
    "    h_str = h.hexdigest()\n",
    "    \n",
    "    stride = 4\n",
    "    h_np = [float(int(h_str[i:i+stride], 16)) / 16**stride for i in range(0, len(h_str), stride)]\n",
    "    h_np = np.array(h_np).reshape((1,-1))\n",
    "    \n",
    "    z1 = h_np @ w1 + b1\n",
    "    op = np.tanh(z1) @ w2 + b2\n",
    "    return op.reshape(target_shape)\n",
    "\n",
    "np.allclose(op, encode(smpl_motion, seq_name, target_shape))"
   ]
  },
  {
   "cell_type": "code",
   "execution_count": null,
   "metadata": {
    "scrolled": true
   },
   "outputs": [],
   "source": [
    "# uniqueness test\n",
    "target_shape = (256,smpl_motion.shape[-1])\n",
    "codes = []\n",
    "for i, seq_name in enumerate(seq_names):\n",
    "    print(\"Processing: %d / %d\" % (i + 1, n_samples))\n",
    "\n",
    "    smpl_motion = compute_SMPL_motion(seq_name, motion_dir)\n",
    "    enc = encode(smpl_motion, seq_name, target_shape)\n",
    "\n",
    "    uniq = True\n",
    "    for ii, code in enumerate(codes):\n",
    "        if np.allclose(code, enc):\n",
    "            print(f\"-- Codes for samples {i+1},{ii+1} same!\")\n",
    "            uniq = False\n",
    "            break\n",
    "    if uniq:\n",
    "        print(f\"++ Unique code for sample {i+1}\")\n",
    "        codes.append(enc)"
   ]
  },
  {
   "cell_type": "code",
   "execution_count": 25,
   "metadata": {},
   "outputs": [
    {
     "data": {
      "text/plain": [
       "(992, 992)"
      ]
     },
     "execution_count": 25,
     "metadata": {},
     "output_type": "execute_result"
    }
   ],
   "source": [
    "len(codes), len(seq_names)"
   ]
  },
  {
   "cell_type": "markdown",
   "metadata": {},
   "source": [
    "## One-hot encoding"
   ]
  },
  {
   "cell_type": "code",
   "execution_count": 7,
   "metadata": {},
   "outputs": [
    {
     "data": {
      "text/plain": [
       "{'gWA_sFM_cAll_d25_mWA4_ch05': {'index': 0,\n",
       "  'enc': array([1., 0., 0., 0., 0., 0., 0., 0., 0., 0., 0., 0., 0., 0., 0., 0., 0.,\n",
       "         0., 0., 0.])},\n",
       " 'gWA_sFM_cAll_d25_mWA2_ch03': {'index': 1,\n",
       "  'enc': array([0., 1., 0., 0., 0., 0., 0., 0., 0., 0., 0., 0., 0., 0., 0., 0., 0.,\n",
       "         0., 0., 0.])},\n",
       " 'gWA_sFM_cAll_d27_mWA2_ch21': {'index': 2,\n",
       "  'enc': array([0., 0., 1., 0., 0., 0., 0., 0., 0., 0., 0., 0., 0., 0., 0., 0., 0.,\n",
       "         0., 0., 0.])},\n",
       " 'gWA_sFM_cAll_d25_mWA5_ch07': {'index': 3,\n",
       "  'enc': array([0., 0., 0., 1., 0., 0., 0., 0., 0., 0., 0., 0., 0., 0., 0., 0., 0.,\n",
       "         0., 0., 0.])},\n",
       " 'gWA_sFM_cAll_d27_mWA2_ch17': {'index': 4,\n",
       "  'enc': array([0., 0., 0., 0., 1., 0., 0., 0., 0., 0., 0., 0., 0., 0., 0., 0., 0.,\n",
       "         0., 0., 0.])},\n",
       " 'gWA_sFM_cAll_d25_mWA5_ch06': {'index': 5,\n",
       "  'enc': array([0., 0., 0., 0., 0., 1., 0., 0., 0., 0., 0., 0., 0., 0., 0., 0., 0.,\n",
       "         0., 0., 0.])},\n",
       " 'gWA_sFM_cAll_d26_mWA5_ch13': {'index': 6,\n",
       "  'enc': array([0., 0., 0., 0., 0., 0., 1., 0., 0., 0., 0., 0., 0., 0., 0., 0., 0.,\n",
       "         0., 0., 0.])},\n",
       " 'gWA_sFM_cAll_d25_mWA1_ch02': {'index': 7,\n",
       "  'enc': array([0., 0., 0., 0., 0., 0., 0., 1., 0., 0., 0., 0., 0., 0., 0., 0., 0.,\n",
       "         0., 0., 0.])},\n",
       " 'gWA_sFM_cAll_d27_mWA3_ch18': {'index': 8,\n",
       "  'enc': array([0., 0., 0., 0., 0., 0., 0., 0., 1., 0., 0., 0., 0., 0., 0., 0., 0.,\n",
       "         0., 0., 0.])},\n",
       " 'gWA_sFM_cAll_d26_mWA1_ch09': {'index': 9,\n",
       "  'enc': array([0., 0., 0., 0., 0., 0., 0., 0., 0., 1., 0., 0., 0., 0., 0., 0., 0.,\n",
       "         0., 0., 0.])},\n",
       " 'gWA_sFM_cAll_d27_mWA4_ch19': {'index': 10,\n",
       "  'enc': array([0., 0., 0., 0., 0., 0., 0., 0., 0., 0., 1., 0., 0., 0., 0., 0., 0.,\n",
       "         0., 0., 0.])},\n",
       " 'gWA_sFM_cAll_d26_mWA3_ch14': {'index': 11,\n",
       "  'enc': array([0., 0., 0., 0., 0., 0., 0., 0., 0., 0., 0., 1., 0., 0., 0., 0., 0.,\n",
       "         0., 0., 0.])},\n",
       " 'gWA_sFM_cAll_d27_mWA5_ch20': {'index': 12,\n",
       "  'enc': array([0., 0., 0., 0., 0., 0., 0., 0., 0., 0., 0., 0., 1., 0., 0., 0., 0.,\n",
       "         0., 0., 0.])},\n",
       " 'gWA_sFM_cAll_d25_mWA3_ch04': {'index': 13,\n",
       "  'enc': array([0., 0., 0., 0., 0., 0., 0., 0., 0., 0., 0., 0., 0., 1., 0., 0., 0.,\n",
       "         0., 0., 0.])},\n",
       " 'gWA_sFM_cAll_d26_mWA4_ch12': {'index': 14,\n",
       "  'enc': array([0., 0., 0., 0., 0., 0., 0., 0., 0., 0., 0., 0., 0., 0., 1., 0., 0.,\n",
       "         0., 0., 0.])},\n",
       " 'gWA_sFM_cAll_d26_mWA3_ch11': {'index': 15,\n",
       "  'enc': array([0., 0., 0., 0., 0., 0., 0., 0., 0., 0., 0., 0., 0., 0., 0., 1., 0.,\n",
       "         0., 0., 0.])},\n",
       " 'gLH_sBM_cAll_d18_mLH2_ch06': {'index': 16,\n",
       "  'enc': array([0., 0., 0., 0., 0., 0., 0., 0., 0., 0., 0., 0., 0., 0., 0., 0., 1.,\n",
       "         0., 0., 0.])},\n",
       " 'gLH_sBM_cAll_d17_mLH0_ch09': {'index': 17,\n",
       "  'enc': array([0., 0., 0., 0., 0., 0., 0., 0., 0., 0., 0., 0., 0., 0., 0., 0., 0.,\n",
       "         1., 0., 0.])},\n",
       " 'gLH_sBM_cAll_d17_mLH1_ch09': {'index': 18,\n",
       "  'enc': array([0., 0., 0., 0., 0., 0., 0., 0., 0., 0., 0., 0., 0., 0., 0., 0., 0.,\n",
       "         0., 1., 0.])},\n",
       " 'gLH_sBM_cAll_d16_mLH2_ch04': {'index': 19,\n",
       "  'enc': array([0., 0., 0., 0., 0., 0., 0., 0., 0., 0., 0., 0., 0., 0., 0., 0., 0.,\n",
       "         0., 0., 1.])}}"
      ]
     },
     "execution_count": 7,
     "metadata": {},
     "output_type": "execute_result"
    }
   ],
   "source": [
    "subset_size = 20\n",
    "\n",
    "onehot_enc_map = {}\n",
    "for i, seq_name in enumerate(seq_names[:subset_size]):\n",
    "    enc = np.zeros(subset_size)\n",
    "    enc[i] = 1\n",
    "\n",
    "    onehot_enc_map[seq_name] = { 'index': i, 'enc': enc }\n",
    "\n",
    "onehot_enc_map"
   ]
  },
  {
   "cell_type": "code",
   "execution_count": 9,
   "metadata": {},
   "outputs": [
    {
     "data": {
      "text/plain": [
       "{'w1': array([[-0.7901525 , -2.03462548,  0.60330175, ...,  0.44634342,\n",
       "         -1.14135364,  0.08615977],\n",
       "        [ 1.82124749,  0.12384311, -1.20305584, ..., -1.21744209,\n",
       "         -0.82092046, -0.09132382],\n",
       "        [-2.2653625 , -0.43572113, -0.98194386, ...,  0.3687278 ,\n",
       "         -0.84107251, -1.36113085],\n",
       "        ...,\n",
       "        [ 0.70120373, -0.8149087 , -1.07677802, ...,  0.02262641,\n",
       "          0.71992117,  0.96491221],\n",
       "        [-0.72263791, -0.57635686, -0.31297773, ..., -0.29936611,\n",
       "          0.40719516, -0.95693612],\n",
       "        [-2.15101827,  0.38983742,  0.71835953, ..., -1.77863634,\n",
       "         -1.51518335,  1.0290083 ]]),\n",
       " 'b1': array([ 0.20061542, -0.35209537, -1.16466148,  0.14945811, -1.41468317,\n",
       "        -0.24597329,  0.57774547, -0.37396595, -1.68107635, -1.78507783,\n",
       "        -0.57151754, -2.36868568,  0.66903662, -0.83797974, -0.75988824,\n",
       "        -0.49501931, -0.90790685,  1.20264581, -0.79971137, -1.35456058,\n",
       "         0.93480667, -0.84045751,  1.36679149,  0.59832129, -0.55863175,\n",
       "        -0.0202448 , -1.14573637, -1.24875483,  1.00623833, -0.46695743,\n",
       "        -0.27909396, -0.58779187,  0.02805992, -0.38474534, -0.02704117,\n",
       "        -0.02351318,  1.26546007, -0.5405803 , -0.15211187,  0.08189587,\n",
       "        -0.97331166,  0.45505773, -0.14944082, -0.60843276, -0.81100457,\n",
       "        -0.12443766,  0.17969035,  0.37995501,  0.68220244, -0.3455542 ,\n",
       "         1.30500818,  0.09008508,  1.06974222, -0.33292064,  1.10562497,\n",
       "         0.05767231, -0.71880351, -0.40308186,  0.23120685, -1.62936498,\n",
       "         0.22609016, -1.95574104,  0.18918077, -0.82027385, -1.21757269,\n",
       "        -0.56576842,  1.26692527,  1.68349433, -0.35404151,  1.43149615,\n",
       "         0.31504285,  1.7312777 ,  0.11590755,  0.74551326, -0.98600434,\n",
       "         1.27327884,  0.8990819 ,  1.22323604,  1.65279147, -0.25305241,\n",
       "         0.5166333 , -1.78005207, -0.8115999 , -1.15077089,  0.88722222,\n",
       "         0.66196881,  0.4867922 ,  0.26950745,  2.13211023,  0.97661109,\n",
       "        -0.4123623 ,  1.84562308,  1.83999793,  0.99517553, -2.12002319,\n",
       "        -0.79574791,  0.58636406, -0.20995404, -1.50652959,  0.24871023,\n",
       "        -0.61823188,  0.39440534,  0.40329431,  1.61048594, -0.76752978,\n",
       "         1.20952214, -0.82609307,  1.18170952,  0.63262604,  0.5521244 ,\n",
       "         0.26704922, -0.56538899,  0.51473045,  0.662653  ,  1.33463354,\n",
       "         0.48505737,  0.57455778, -0.99665303, -1.66322386,  0.24222097,\n",
       "         2.42178723, -0.08623455, -0.87127262, -2.60517355,  0.62081771,\n",
       "        -0.96889933, -0.61774062,  0.29053602]),\n",
       " 'w2': array([[ 0.67409986,  1.92497777,  1.27059105, ...,  2.36554639,\n",
       "          1.82054864, -1.45167275],\n",
       "        [ 1.43970922,  0.23532495, -0.10316359, ...,  0.53753761,\n",
       "          1.2167227 ,  1.2973835 ],\n",
       "        [ 1.42596375, -0.04924396,  1.29869536, ...,  0.13326912,\n",
       "         -1.22335686,  0.06738394],\n",
       "        ...,\n",
       "        [ 0.37922395,  1.10247065,  0.60781089, ..., -1.33235153,\n",
       "         -0.20383796, -1.76123163],\n",
       "        [ 2.03754   ,  0.0321269 ,  0.42890772, ..., -1.27283057,\n",
       "         -0.33001201,  0.05381146],\n",
       "        [ 1.13475928, -0.19935077,  1.34288695, ...,  1.14122802,\n",
       "         -0.66625345, -1.56488028]]),\n",
       " 'b2': array([-0.34395469, -0.38196846,  0.38372529, ..., -0.20649249,\n",
       "         0.35846045, -0.75413699]),\n",
       " 'enc_shape': (256, 219),\n",
       " 'wt_seed': 101,\n",
       " 'input_size': 10,\n",
       " 'hidden_size': 128}"
      ]
     },
     "execution_count": 9,
     "metadata": {},
     "output_type": "execute_result"
    }
   ],
   "source": [
    "# pass through small NN\n",
    "\n",
    "with open('/srv/share4/anarayanan68/mint/_expts/tvloss_overfit_l2_bsz8_1GPU/enc_data.pkl', 'rb') as pf:\n",
    "    enc_pkl = pickle.load(pf)\n",
    "\n",
    "enc_pkl"
   ]
  },
  {
   "cell_type": "code",
   "execution_count": 10,
   "metadata": {},
   "outputs": [
    {
     "data": {
      "text/plain": [
       "(256, 219)"
      ]
     },
     "execution_count": 10,
     "metadata": {},
     "output_type": "execute_result"
    }
   ],
   "source": [
    "target_shape = (256,smpl_motion.shape[-1])\n",
    "# target_shape = smpl_motion.shape\n",
    "target_shape"
   ]
  },
  {
   "cell_type": "code",
   "execution_count": 11,
   "metadata": {},
   "outputs": [
    {
     "data": {
      "text/plain": [
       "56064"
      ]
     },
     "execution_count": 11,
     "metadata": {},
     "output_type": "execute_result"
    }
   ],
   "source": [
    "op_dim = np.prod(target_shape)\n",
    "op_dim"
   ]
  },
  {
   "cell_type": "code",
   "execution_count": 13,
   "metadata": {},
   "outputs": [],
   "source": [
    "wt_seed = enc_pkl['wt_seed']\n",
    "wt_rng = np.random.default_rng(seed=wt_seed)\n",
    "\n",
    "hidden_size = enc_pkl['hidden_size']\n",
    "\n",
    "w1 = wt_rng.normal(size=(subset_size, hidden_size))\n",
    "b1 = wt_rng.normal(size=hidden_size)\n",
    "w2 = wt_rng.normal(size=(hidden_size, op_dim))\n",
    "b2 = wt_rng.normal(size=op_dim)"
   ]
  },
  {
   "cell_type": "code",
   "execution_count": 14,
   "metadata": {},
   "outputs": [
    {
     "data": {
      "text/plain": [
       "('gLH_sBM_cAll_d16_mLH2_ch04',\n",
       " {'index': 19,\n",
       "  'enc': array([0., 0., 0., 0., 0., 0., 0., 0., 0., 0., 0., 0., 0., 0., 0., 0., 0.,\n",
       "         0., 0., 1.])})"
      ]
     },
     "execution_count": 14,
     "metadata": {},
     "output_type": "execute_result"
    }
   ],
   "source": [
    "seq_name, onehot_enc_map[seq_name]"
   ]
  },
  {
   "cell_type": "code",
   "execution_count": 15,
   "metadata": {},
   "outputs": [
    {
     "data": {
      "text/plain": [
       "(256, 219)"
      ]
     },
     "execution_count": 15,
     "metadata": {},
     "output_type": "execute_result"
    }
   ],
   "source": [
    "ip = onehot_enc_map[seq_name]['enc']\n",
    "\n",
    "z1 = ip @ w1 + b1\n",
    "op = np.tanh(z1) @ w2 + b2\n",
    "op = op.reshape(target_shape)\n",
    "op.shape"
   ]
  },
  {
   "cell_type": "code",
   "execution_count": 16,
   "metadata": {},
   "outputs": [
    {
     "data": {
      "text/plain": [
       "array([[-3.57312332e-01,  1.39836928e+01,  4.51780611e+00, ...,\n",
       "        -1.40807913e+00,  5.63295300e+00, -1.37259505e+01],\n",
       "       [-7.22731946e+00, -1.59952002e+01, -8.68384809e-01, ...,\n",
       "         8.34062849e-01,  5.72835125e+00,  1.26231974e+01],\n",
       "       [-8.91031507e+00,  5.67676571e-01, -1.73737162e+01, ...,\n",
       "        -1.63558135e-03, -4.13480959e+00,  1.26647066e+00],\n",
       "       ...,\n",
       "       [-4.06349180e+00, -1.54052084e+00, -1.14557292e+01, ...,\n",
       "         2.57522258e+00, -5.17123343e+00, -6.93886543e+00],\n",
       "       [-2.00960292e-01, -1.14891874e+01,  4.04385440e-01, ...,\n",
       "         2.28700280e+00,  6.05607930e+00,  7.27597370e+00],\n",
       "       [-2.55571639e+00, -7.09158924e+00,  8.94709391e-01, ...,\n",
       "         1.13004440e+00, -1.03669216e+01,  3.39689352e+00]])"
      ]
     },
     "execution_count": 16,
     "metadata": {},
     "output_type": "execute_result"
    }
   ],
   "source": [
    "op"
   ]
  },
  {
   "cell_type": "code",
   "execution_count": 17,
   "metadata": {},
   "outputs": [
    {
     "data": {
      "text/plain": [
       "True"
      ]
     },
     "execution_count": 17,
     "metadata": {},
     "output_type": "execute_result"
    }
   ],
   "source": [
    "def encode(seq_name, onehot_enc_map, target_shape):\n",
    "    global w1, b1, w2, b2\n",
    "    ip = onehot_enc_map[seq_name]['enc']\n",
    "    \n",
    "    z1 = ip @ w1 + b1\n",
    "    op = np.tanh(z1) @ w2 + b2\n",
    "    return op.reshape(target_shape)\n",
    "\n",
    "np.allclose(op, encode(seq_name, onehot_enc_map, target_shape))"
   ]
  },
  {
   "cell_type": "code",
   "execution_count": 18,
   "metadata": {
    "scrolled": true
   },
   "outputs": [
    {
     "name": "stdout",
     "output_type": "stream",
     "text": [
      "Processing: 1 / 20\n",
      "++ Unique code for sample 1\n",
      "Processing: 2 / 20\n",
      "++ Unique code for sample 2\n",
      "Processing: 3 / 20\n",
      "++ Unique code for sample 3\n",
      "Processing: 4 / 20\n",
      "++ Unique code for sample 4\n",
      "Processing: 5 / 20\n",
      "++ Unique code for sample 5\n",
      "Processing: 6 / 20\n",
      "++ Unique code for sample 6\n",
      "Processing: 7 / 20\n",
      "++ Unique code for sample 7\n",
      "Processing: 8 / 20\n",
      "++ Unique code for sample 8\n",
      "Processing: 9 / 20\n",
      "++ Unique code for sample 9\n",
      "Processing: 10 / 20\n",
      "++ Unique code for sample 10\n",
      "Processing: 11 / 20\n",
      "++ Unique code for sample 11\n",
      "Processing: 12 / 20\n",
      "++ Unique code for sample 12\n",
      "Processing: 13 / 20\n",
      "++ Unique code for sample 13\n",
      "Processing: 14 / 20\n",
      "++ Unique code for sample 14\n",
      "Processing: 15 / 20\n",
      "++ Unique code for sample 15\n",
      "Processing: 16 / 20\n",
      "++ Unique code for sample 16\n",
      "Processing: 17 / 20\n",
      "++ Unique code for sample 17\n",
      "Processing: 18 / 20\n",
      "++ Unique code for sample 18\n",
      "Processing: 19 / 20\n",
      "++ Unique code for sample 19\n",
      "Processing: 20 / 20\n",
      "++ Unique code for sample 20\n"
     ]
    }
   ],
   "source": [
    "# uniqueness test\n",
    "codes = []\n",
    "for i, seq_name in enumerate(seq_names[:subset_size]):\n",
    "    print(\"Processing: %d / %d\" % (i + 1, subset_size))\n",
    "\n",
    "    smpl_motion = compute_SMPL_motion(seq_name, motion_dir)\n",
    "    enc = encode(seq_name, onehot_enc_map, target_shape)\n",
    "\n",
    "    uniq = True\n",
    "    for ii, code in enumerate(codes):\n",
    "        if np.allclose(code, enc):\n",
    "            print(f\"-- Codes for samples {i+1},{ii+1} same!\")\n",
    "            uniq = False\n",
    "            break\n",
    "    if uniq:\n",
    "        print(f\"++ Unique code for sample {i+1}\")\n",
    "        codes.append(enc)"
   ]
  },
  {
   "cell_type": "code",
   "execution_count": 19,
   "metadata": {},
   "outputs": [
    {
     "data": {
      "text/plain": [
       "(20, 20)"
      ]
     },
     "execution_count": 19,
     "metadata": {},
     "output_type": "execute_result"
    }
   ],
   "source": [
    "len(codes), len(seq_names[:subset_size])"
   ]
  },
  {
   "cell_type": "code",
   "execution_count": 21,
   "metadata": {},
   "outputs": [
    {
     "data": {
      "text/plain": [
       "array([[ -3.7172471 ,   0.7417453 ,  -7.74859264, ...,  -8.83078509,\n",
       "         -9.78254557,  -0.19112167],\n",
       "       [  0.45259177,  -7.82144513,  -5.49666808, ...,  13.25936315,\n",
       "         -7.17913427,  -9.03646386],\n",
       "       [  8.67022638,   9.38052127,   3.58080637, ...,   5.25710151,\n",
       "         11.70754968,  -3.59840717],\n",
       "       ...,\n",
       "       [ -3.81926009,   1.77586849, -16.97687696, ...,  11.44402348,\n",
       "         -3.42204133,   1.78174752],\n",
       "       [ -7.39002791,  -0.84626922, -25.00937199, ...,   0.44423946,\n",
       "         -1.72451307,  -0.76579427],\n",
       "       [  3.63432833,   4.77108345,   5.60641838, ...,  12.4190103 ,\n",
       "         14.31144562,   1.97608226]])"
      ]
     },
     "execution_count": 21,
     "metadata": {},
     "output_type": "execute_result"
    }
   ],
   "source": [
    "codes[0] - codes[1]"
   ]
  }
 ],
 "metadata": {
  "interpreter": {
   "hash": "73ef9dae1850d4826a6a2abacc613ceaa38b06453232522e74b0afa9475d9130"
  },
  "kernelspec": {
   "display_name": "Python 3",
   "language": "python",
   "name": "python3"
  },
  "language_info": {
   "codemirror_mode": {
    "name": "ipython",
    "version": 3
   },
   "file_extension": ".py",
   "mimetype": "text/x-python",
   "name": "python",
   "nbconvert_exporter": "python",
   "pygments_lexer": "ipython3",
   "version": "3.7.11"
  }
 },
 "nbformat": 4,
 "nbformat_minor": 2
}
