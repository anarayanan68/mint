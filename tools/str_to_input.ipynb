{
 "cells": [
  {
   "cell_type": "code",
   "execution_count": 1,
   "metadata": {},
   "outputs": [],
   "source": [
    "import numpy as np\n",
    "import hashlib\n",
    "import os\n",
    "\n",
    "from scipy.spatial.transform import Rotation as R\n",
    "from aist_plusplus.loader import AISTDataset"
   ]
  },
  {
   "cell_type": "code",
   "execution_count": 2,
   "metadata": {},
   "outputs": [
    {
     "data": {
      "text/plain": [
       "(['gLH_sBM_cAll_d17_mLH4_ch01',\n",
       "  'gLH_sBM_cAll_d18_mLH4_ch01',\n",
       "  'gKR_sBM_cAll_d30_mKR2_ch01',\n",
       "  'gKR_sBM_cAll_d28_mKR2_ch01',\n",
       "  'gBR_sBM_cAll_d04_mBR0_ch01',\n",
       "  'gBR_sBM_cAll_d05_mBR0_ch01',\n",
       "  'gLO_sBM_cAll_d13_mLO2_ch01',\n",
       "  'gLO_sBM_cAll_d15_mLO2_ch01',\n",
       "  'gJB_sBM_cAll_d08_mJB5_ch01',\n",
       "  'gJB_sBM_cAll_d09_mJB5_ch01',\n",
       "  'gWA_sBM_cAll_d26_mWA0_ch01',\n",
       "  'gWA_sBM_cAll_d25_mWA0_ch01',\n",
       "  'gJS_sBM_cAll_d01_mJS3_ch01',\n",
       "  'gJS_sBM_cAll_d03_mJS3_ch01',\n",
       "  'gMH_sBM_cAll_d22_mMH3_ch01',\n",
       "  'gMH_sBM_cAll_d24_mMH3_ch01',\n",
       "  'gHO_sBM_cAll_d21_mHO5_ch01',\n",
       "  'gHO_sBM_cAll_d20_mHO5_ch01',\n",
       "  'gPO_sBM_cAll_d11_mPO1_ch01',\n",
       "  'gPO_sBM_cAll_d10_mPO1_ch01',\n",
       "  'gLH_sBM_cAll_d17_mLH4_ch02',\n",
       "  'gLH_sBM_cAll_d18_mLH4_ch02',\n",
       "  'gKR_sBM_cAll_d30_mKR2_ch02',\n",
       "  'gKR_sBM_cAll_d28_mKR2_ch02',\n",
       "  'gBR_sBM_cAll_d04_mBR0_ch02',\n",
       "  'gBR_sBM_cAll_d05_mBR0_ch02',\n",
       "  'gLO_sBM_cAll_d13_mLO2_ch02',\n",
       "  'gLO_sBM_cAll_d15_mLO2_ch02',\n",
       "  'gJB_sBM_cAll_d08_mJB5_ch02',\n",
       "  'gJB_sBM_cAll_d09_mJB5_ch02',\n",
       "  'gWA_sBM_cAll_d26_mWA0_ch02',\n",
       "  'gWA_sBM_cAll_d25_mWA0_ch02',\n",
       "  'gJS_sBM_cAll_d03_mJS3_ch02',\n",
       "  'gJS_sBM_cAll_d01_mJS3_ch02',\n",
       "  'gMH_sBM_cAll_d24_mMH3_ch02',\n",
       "  'gMH_sBM_cAll_d22_mMH3_ch02',\n",
       "  'gHO_sBM_cAll_d20_mHO5_ch02',\n",
       "  'gHO_sBM_cAll_d21_mHO5_ch02',\n",
       "  'gPO_sBM_cAll_d10_mPO1_ch02',\n",
       "  'gPO_sBM_cAll_d11_mPO1_ch02'],\n",
       " 40)"
      ]
     },
     "execution_count": 2,
     "metadata": {},
     "output_type": "execute_result"
    }
   ],
   "source": [
    "anno_dir = '/srv/share/datasets/AIST/aist_plusplus_final/'\n",
    "\n",
    "flag_train = False\n",
    "flag_val = True\n",
    "flag_test = True\n",
    "\n",
    "# create list\n",
    "seq_names = []\n",
    "if flag_train:\n",
    "    seq_names += np.loadtxt(\n",
    "        os.path.join(anno_dir, \"splits/crossmodal_train.txt\"), dtype=str\n",
    "    ).tolist()\n",
    "if flag_val:\n",
    "    seq_names += np.loadtxt(\n",
    "        os.path.join(anno_dir, \"splits/crossmodal_val.txt\"), dtype=str\n",
    "    ).tolist()\n",
    "if flag_test:\n",
    "    seq_names += np.loadtxt(\n",
    "        os.path.join(anno_dir, \"splits/crossmodal_test.txt\"), dtype=str\n",
    "    ).tolist()\n",
    "\n",
    "ignore_list = np.loadtxt(\n",
    "    os.path.join(anno_dir, \"ignore_list.txt\"), dtype=str\n",
    ").tolist()\n",
    "seq_names = [name for name in seq_names if name not in ignore_list]\n",
    "n_samples = len(seq_names)\n",
    "\n",
    "seq_names, n_samples"
   ]
  },
  {
   "cell_type": "code",
   "execution_count": 3,
   "metadata": {},
   "outputs": [
    {
     "name": "stdout",
     "output_type": "stream",
     "text": [
      "processing 1 / 40\n",
      "Seq name: gLH_sBM_cAll_d17_mLH4_ch01 \t Motion shape: (480, 219)\n"
     ]
    }
   ],
   "source": [
    "def compute_SMPL_motion(seq_name, motion_dir):\n",
    "    smpl_poses, smpl_scaling, smpl_trans = AISTDataset.load_motion(motion_dir, seq_name)\n",
    "    smpl_trans /= smpl_scaling\n",
    "    smpl_poses = R.from_rotvec(\n",
    "        smpl_poses.reshape(-1, 3)).as_matrix().reshape(smpl_poses.shape[0], -1)\n",
    "    smpl_motion = np.concatenate([smpl_trans, smpl_poses], axis=-1)\n",
    "    return smpl_motion\n",
    "\n",
    "\n",
    "motion_dir = os.path.join(anno_dir, 'motions')\n",
    "for i, seq_name in enumerate(seq_names[:1]):\n",
    "    print(\"processing %d / %d\" % (i + 1, n_samples))\n",
    "\n",
    "    smpl_motion = compute_SMPL_motion(seq_name, motion_dir)\n",
    "    print(f\"Seq name: {seq_name} \\t Motion shape: {smpl_motion.shape}\")"
   ]
  },
  {
   "cell_type": "code",
   "execution_count": 4,
   "metadata": {},
   "outputs": [
    {
     "data": {
      "text/plain": [
       "('gLH_sBM_cAll_d17_mLH4_ch01', (480, 219))"
      ]
     },
     "execution_count": 4,
     "metadata": {},
     "output_type": "execute_result"
    }
   ],
   "source": [
    "seq_name, smpl_motion.shape"
   ]
  },
  {
   "cell_type": "code",
   "execution_count": 5,
   "metadata": {},
   "outputs": [
    {
     "data": {
      "text/plain": [
       "('gLH_sBM_cAll_d17_mLH4_ch01',\n",
       " <sha1 HASH object @ 0x7fa2253fec00>,\n",
       " 187866566387554190740179474152453353543983648002)"
      ]
     },
     "execution_count": 5,
     "metadata": {},
     "output_type": "execute_result"
    }
   ],
   "source": [
    "h = hashlib.sha1(seq_name.encode('utf-8'))\n",
    "h_int = int(h.hexdigest(), 16)\n",
    "seq_name, h, h_int"
   ]
  },
  {
   "cell_type": "code",
   "execution_count": 6,
   "metadata": {},
   "outputs": [
    {
     "data": {
      "text/plain": [
       "'187866566387554190740179474152453353543983648002'"
      ]
     },
     "execution_count": 6,
     "metadata": {},
     "output_type": "execute_result"
    }
   ],
   "source": [
    "h_str = str(h_int)\n",
    "h_str"
   ]
  },
  {
   "cell_type": "code",
   "execution_count": 7,
   "metadata": {
    "scrolled": true
   },
   "outputs": [
    {
     "data": {
      "text/plain": [
       "(array([[0.187, 0.866, 0.566, 0.387, 0.554, 0.19 , 0.74 , 0.179, 0.474,\n",
       "         0.152, 0.453, 0.353, 0.543, 0.983, 0.648, 0.002]]),\n",
       " (1, 16))"
      ]
     },
     "execution_count": 7,
     "metadata": {},
     "output_type": "execute_result"
    }
   ],
   "source": [
    "h_np = np.array([float(h_str[i:i+3]) / 1e3 for i in range(0, len(h_str), 3)]).reshape((1,-1))\n",
    "h_np, h_np.shape"
   ]
  },
  {
   "cell_type": "code",
   "execution_count": 8,
   "metadata": {},
   "outputs": [
    {
     "data": {
      "text/plain": [
       "(256, 219)"
      ]
     },
     "execution_count": 8,
     "metadata": {},
     "output_type": "execute_result"
    }
   ],
   "source": [
    "target_shape = (256,smpl_motion.shape[-1])\n",
    "# target_shape = smpl_motion.shape\n",
    "target_shape"
   ]
  },
  {
   "cell_type": "code",
   "execution_count": 9,
   "metadata": {},
   "outputs": [
    {
     "data": {
      "text/plain": [
       "56064"
      ]
     },
     "execution_count": 9,
     "metadata": {},
     "output_type": "execute_result"
    }
   ],
   "source": [
    "op_dim = np.prod(target_shape)\n",
    "op_dim"
   ]
  },
  {
   "cell_type": "code",
   "execution_count": 10,
   "metadata": {},
   "outputs": [
    {
     "data": {
      "text/plain": [
       "(256, 219)"
      ]
     },
     "execution_count": 10,
     "metadata": {},
     "output_type": "execute_result"
    }
   ],
   "source": [
    "wt_seed = 101\n",
    "wt_rng = np.random.default_rng(seed=wt_seed)\n",
    "\n",
    "hidden_size = 128\n",
    "\n",
    "w1 = wt_rng.normal(size=(h_np.shape[-1], hidden_size))\n",
    "b1 = wt_rng.normal(size=hidden_size)\n",
    "w2 = wt_rng.normal(size=(hidden_size, op_dim))\n",
    "b2 = wt_rng.normal(size=op_dim)\n",
    "\n",
    "z1 = h_np @ w1 + b1\n",
    "op = np.tanh(z1) @ w2 + b2\n",
    "op.reshape(target_shape).shape"
   ]
  },
  {
   "cell_type": "code",
   "execution_count": 11,
   "metadata": {},
   "outputs": [
    {
     "data": {
      "text/plain": [
       "array([[  3.95264557,  18.10119154,   1.37463447, ...,  31.69889754,\n",
       "        -13.08205681,   2.50961309]])"
      ]
     },
     "execution_count": 11,
     "metadata": {},
     "output_type": "execute_result"
    }
   ],
   "source": [
    "op"
   ]
  },
  {
   "cell_type": "code",
   "execution_count": null,
   "metadata": {},
   "outputs": [],
   "source": []
  }
 ],
 "metadata": {
  "interpreter": {
   "hash": "73ef9dae1850d4826a6a2abacc613ceaa38b06453232522e74b0afa9475d9130"
  },
  "kernelspec": {
   "display_name": "Python 3",
   "language": "python",
   "name": "python3"
  },
  "language_info": {
   "codemirror_mode": {
    "name": "ipython",
    "version": 3
   },
   "file_extension": ".py",
   "mimetype": "text/x-python",
   "name": "python",
   "nbconvert_exporter": "python",
   "pygments_lexer": "ipython3",
   "version": "3.7.11"
  }
 },
 "nbformat": 4,
 "nbformat_minor": 2
}
